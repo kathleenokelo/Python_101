{
  "nbformat": 4,
  "nbformat_minor": 0,
  "metadata": {
    "colab": {
      "provenance": []
    },
    "kernelspec": {
      "name": "python3",
      "display_name": "Python 3"
    },
    "language_info": {
      "name": "python"
    }
  },
  "cells": [
    {
      "cell_type": "markdown",
      "source": [
        "Scraping short reviews, long reviews and dates of reviews of the Etihad Airline from airline equality website.\n"
      ],
      "metadata": {
        "id": "RsGyvLJzVyFS"
      }
    },
    {
      "cell_type": "code",
      "execution_count": null,
      "metadata": {
        "id": "DgGpvdW27NIj"
      },
      "outputs": [],
      "source": [
        "## getting requirements\n",
        "import requests\n",
        "from bs4 import BeautifulSoup"
      ]
    },
    {
      "cell_type": "code",
      "source": [
        "## getting data from website\n",
        "urls = 'https://www.airlinequality.com/airline-reviews/etihad-airways/'\n",
        "response = requests.get(urls)\n"
      ],
      "metadata": {
        "id": "afJe2I6RBjcO"
      },
      "execution_count": null,
      "outputs": []
    },
    {
      "cell_type": "code",
      "source": [
        "## checking status code\n",
        "response.status_code"
      ],
      "metadata": {
        "colab": {
          "base_uri": "https://localhost:8080/"
        },
        "id": "KhpGhnoGCUz3",
        "outputId": "8246a493-3051-4e65-bd5d-ba44e7ab157e"
      },
      "execution_count": null,
      "outputs": [
        {
          "output_type": "execute_result",
          "data": {
            "text/plain": [
              "200"
            ]
          },
          "metadata": {},
          "execution_count": 3
        }
      ]
    },
    {
      "cell_type": "code",
      "source": [
        "## parsing data\n",
        "soup = BeautifulSoup(response.text, 'html.parser')"
      ],
      "metadata": {
        "id": "F4JNzR-TCZ6W"
      },
      "execution_count": null,
      "outputs": []
    },
    {
      "cell_type": "code",
      "source": [
        "soup.title.string"
      ],
      "metadata": {
        "colab": {
          "base_uri": "https://localhost:8080/",
          "height": 35
        },
        "id": "a1x-S8ZBDMNy",
        "outputId": "f4e0bc7c-64c5-421e-ee8a-8d890c923a13"
      },
      "execution_count": null,
      "outputs": [
        {
          "output_type": "execute_result",
          "data": {
            "text/plain": [
              "'Etihad Airways Customer Reviews - SKYTRAX'"
            ],
            "application/vnd.google.colaboratory.intrinsic+json": {
              "type": "string"
            }
          },
          "metadata": {},
          "execution_count": 5
        }
      ]
    },
    {
      "cell_type": "markdown",
      "source": [
        "Getting data for short reviews\n"
      ],
      "metadata": {
        "id": "uKoTrZyMXBqc"
      }
    },
    {
      "cell_type": "code",
      "source": [
        "articles = soup.find_all('article',itemprop= 'review')\n",
        "articles"
      ],
      "metadata": {
        "colab": {
          "base_uri": "https://localhost:8080/"
        },
        "collapsed": true,
        "id": "vXUmZ040DSTH",
        "outputId": "9ec0f83a-fb71-4522-f4d2-dffdfe8169a8"
      },
      "execution_count": null,
      "outputs": [
        {
          "output_type": "execute_result",
          "data": {
            "text/plain": [
              "[<article class=\"comp comp_media-review-rated list-item media position-content review-899280\" itemprop=\"review\" itemscope=\"\" itemtype=\"http://schema.org/Review\">\n",
              " <meta content=\"2024-06-19\" itemprop=\"datePublished\"/>\n",
              " <div class=\"rating-10\" itemprop=\"reviewRating\" itemscope=\"\" itemtype=\"http://schema.org/Rating\">\n",
              " <span itemprop=\"ratingValue\">1</span>/<span itemprop=\"bestRating\">10</span>\n",
              " </div>\n",
              " <div class=\"body\" id=\"anchor899280\">\n",
              " <h2 class=\"text_header\">\"disappointing and frustrating\"</h2>\n",
              " <h3 class=\"text_sub_header userStatusWrapper\">\n",
              " <span itemprop=\"author\" itemscope=\"\" itemtype=\"http://schema.org/Person\">\n",
              " <span itemprop=\"name\">E Kameer</span></span> (United States) <time datetime=\"2024-06-19\" itemprop=\"datePublished\">19th June 2024</time></h3>\n",
              " <div class=\"tc_mobile\">\n",
              " <div class=\"text_content\" itemprop=\"reviewBody\">✅ <strong><a href=\"https://www.airlinequality.com/verified-reviews/\"><em>Trip Verified</em></a></strong> |  My recent experience with Etihad Airways on an international flight from Bangalore to Boston was disappointing and frustrating. The ordeal began with repeated flight delays without clear explanations, initially delaying departure by an hour, then extending to two more hours without any reasonable justification. After waiting painfully for 6 hours, the flight was suddenly canceled, leaving passengers feeling lost and frustrated. Etihad's management handled the situation poorly, showing a blatant disregard for the inconvenience caused to passengers. Instead of arranging alternative flights, they scheduled me for a replacement flight 20 hours later, with two additional connecting flights, each burdened with layovers of 8 hours and 7 hours respectively. This resulted in an waste of nearly 32 hours of travel time. Throughout this travel, there was a glaring lack of empathy or support from Etihad's staff, who seemed indifferent to the plight of their customers. No compensatory measures were offered, despite the significant inconvenience and disruption to travel plans. Based on my personal experience, I strongly advise against choosing Etihad Airways for future travel plans. Their unprofessionalism, lack of customer care, and disregard for passenger well-being make them a regrettable choice for anyone seeking reliable and considerate airline service.</div>\n",
              " <div class=\"review-stats\">\n",
              " <table class=\"review-ratings\">\n",
              " <tr><td class=\"review-rating-header type_of_traveller\">Type Of Traveller</td><td class=\"review-value\">Family Leisure</td></tr>\n",
              " <tr><td class=\"review-rating-header cabin_flown\">Seat Type</td><td class=\"review-value\">Economy Class</td></tr>\n",
              " <tr><td class=\"review-rating-header route\">Route</td><td class=\"review-value\">Bangalore to Boston via Abu Dhabi</td></tr>\n",
              " <tr><td class=\"review-rating-header date_flown\">Date Flown</td><td class=\"review-value\">May 2024</td></tr>\n",
              " <tr>\n",
              " <td class=\"review-rating-header seat_comfort\">Seat Comfort</td>\n",
              " <td class=\"review-rating-stars stars\"><span class=\"star fill\">1</span><span class=\"star fill\">2</span><span class=\"star\">3</span><span class=\"star\">4</span><span class=\"star\">5</span></td>\n",
              " </tr>\n",
              " <tr>\n",
              " <td class=\"review-rating-header cabin_staff_service\">Cabin Staff Service</td>\n",
              " <td class=\"review-rating-stars stars\"><span class=\"star fill\">1</span><span class=\"star fill\">2</span><span class=\"star\">3</span><span class=\"star\">4</span><span class=\"star\">5</span></td>\n",
              " </tr>\n",
              " <tr>\n",
              " <td class=\"review-rating-header food_and_beverages\">Food &amp; Beverages</td>\n",
              " <td class=\"review-rating-stars stars\"><span class=\"star fill\">1</span><span class=\"star fill\">2</span><span class=\"star\">3</span><span class=\"star\">4</span><span class=\"star\">5</span></td>\n",
              " </tr>\n",
              " <tr>\n",
              " <td class=\"review-rating-header inflight_entertainment\">Inflight Entertainment</td>\n",
              " <td class=\"review-rating-stars stars\"><span class=\"star fill\">1</span><span class=\"star\">2</span><span class=\"star\">3</span><span class=\"star\">4</span><span class=\"star\">5</span></td>\n",
              " </tr>\n",
              " <tr>\n",
              " <td class=\"review-rating-header ground_service\">Ground Service</td>\n",
              " <td class=\"review-rating-stars stars\"><span class=\"star fill\">1</span><span class=\"star\">2</span><span class=\"star\">3</span><span class=\"star\">4</span><span class=\"star\">5</span></td>\n",
              " </tr>\n",
              " <tr>\n",
              " <td class=\"review-rating-header value_for_money\">Value For Money</td>\n",
              " <td class=\"review-rating-stars stars\"><span class=\"star fill\">1</span><span class=\"star\">2</span><span class=\"star\">3</span><span class=\"star\">4</span><span class=\"star\">5</span></td>\n",
              " </tr>\n",
              " <tr><td class=\"review-rating-header recommended\">Recommended</td><td class=\"review-value rating-no\">no</td></tr> </table>\n",
              " </div>\n",
              " </div>\n",
              " </div>\n",
              " <a class=\"toggle-click tc_mobile_only\" href=\"#anchor899280\"></a>\n",
              " </article>,\n",
              " <article class=\"comp comp_media-review-rated list-item media position-content review-899037\" itemprop=\"review\" itemscope=\"\" itemtype=\"http://schema.org/Review\">\n",
              " <meta content=\"2024-06-17\" itemprop=\"datePublished\"/>\n",
              " <div class=\"rating-10\" itemprop=\"reviewRating\" itemscope=\"\" itemtype=\"http://schema.org/Rating\">\n",
              " <span itemprop=\"ratingValue\">9</span>/<span itemprop=\"bestRating\">10</span>\n",
              " </div>\n",
              " <div class=\"body\" id=\"anchor899037\">\n",
              " <h2 class=\"text_header\">\"very good value for money\"</h2>\n",
              " <h3 class=\"text_sub_header userStatusWrapper\">\n",
              " <span itemprop=\"author\" itemscope=\"\" itemtype=\"http://schema.org/Person\">\n",
              " <span itemprop=\"name\">B Aalbers</span></span> (Netherlands) <time datetime=\"2024-06-17\" itemprop=\"datePublished\">17th June 2024</time></h3>\n",
              " <div class=\"tc_mobile\">\n",
              " <div class=\"text_content\" itemprop=\"reviewBody\">✅ <strong><a href=\"https://www.airlinequality.com/verified-reviews/\"><em>Trip Verified</em></a></strong> | I flew Etihad very recently from AMS to HKT via AUH and return from BKK to AMS via AUH. All flights in economy. All flights except the flight from BKK to AUH were on time. I booked an aisle seat for all flights and I also purchased priority access which allows you to check in at separate desk and to board the aircraft first alongside business class passengers. In my opinion this is a brilliant option becuse you avoid the rush and chaos of economy class check in and boarding. It's gives you plenty of time to stow you luggage and get ready for the flight. The boarding procedure is well organised. On board I found the seats offer enough comfort and acceptable seat pitch. Ebox system is very nice with a broad selection of movies and tv show. Live tv, including sports is available. Watched the Dutch national footbal team beat Poland. Food and beverage is of good quality. Wifi available for a decent price. On all flights I found the Cabin crew to be cheerful and helpful. The only thing I would like to add is some amenities in the lavatories. All in all very good value for money.</div>\n",
              " <div class=\"review-stats\">\n",
              " <table class=\"review-ratings\">\n",
              " <tr><td class=\"review-rating-header aircraft\">Aircraft</td><td class=\"review-value\">Boeing 787</td></tr>\n",
              " <tr><td class=\"review-rating-header type_of_traveller\">Type Of Traveller</td><td class=\"review-value\">Solo Leisure</td></tr>\n",
              " <tr><td class=\"review-rating-header cabin_flown\">Seat Type</td><td class=\"review-value\">Economy Class</td></tr>\n",
              " <tr><td class=\"review-rating-header route\">Route</td><td class=\"review-value\">Amsterdam to Phuket </td></tr>\n",
              " <tr><td class=\"review-rating-header date_flown\">Date Flown</td><td class=\"review-value\">June 2024</td></tr>\n",
              " <tr>\n",
              " <td class=\"review-rating-header seat_comfort\">Seat Comfort</td>\n",
              " <td class=\"review-rating-stars stars\"><span class=\"star fill\">1</span><span class=\"star fill\">2</span><span class=\"star fill\">3</span><span class=\"star fill\">4</span><span class=\"star\">5</span></td>\n",
              " </tr>\n",
              " <tr>\n",
              " <td class=\"review-rating-header cabin_staff_service\">Cabin Staff Service</td>\n",
              " <td class=\"review-rating-stars stars\"><span class=\"star fill\">1</span><span class=\"star fill\">2</span><span class=\"star fill\">3</span><span class=\"star fill\">4</span><span class=\"star fill\">5</span></td>\n",
              " </tr>\n",
              " <tr>\n",
              " <td class=\"review-rating-header food_and_beverages\">Food &amp; Beverages</td>\n",
              " <td class=\"review-rating-stars stars\"><span class=\"star fill\">1</span><span class=\"star fill\">2</span><span class=\"star fill\">3</span><span class=\"star fill\">4</span><span class=\"star\">5</span></td>\n",
              " </tr>\n",
              " <tr>\n",
              " <td class=\"review-rating-header inflight_entertainment\">Inflight Entertainment</td>\n",
              " <td class=\"review-rating-stars stars\"><span class=\"star fill\">1</span><span class=\"star fill\">2</span><span class=\"star fill\">3</span><span class=\"star fill\">4</span><span class=\"star fill\">5</span></td>\n",
              " </tr>\n",
              " <tr>\n",
              " <td class=\"review-rating-header ground_service\">Ground Service</td>\n",
              " <td class=\"review-rating-stars stars\"><span class=\"star fill\">1</span><span class=\"star fill\">2</span><span class=\"star fill\">3</span><span class=\"star fill\">4</span><span class=\"star\">5</span></td>\n",
              " </tr>\n",
              " <tr>\n",
              " <td class=\"review-rating-header wifi_and_connectivity\">Wifi &amp; Connectivity</td>\n",
              " <td class=\"review-rating-stars stars\"><span class=\"star fill\">1</span><span class=\"star fill\">2</span><span class=\"star fill\">3</span><span class=\"star fill\">4</span><span class=\"star fill\">5</span></td>\n",
              " </tr>\n",
              " <tr>\n",
              " <td class=\"review-rating-header value_for_money\">Value For Money</td>\n",
              " <td class=\"review-rating-stars stars\"><span class=\"star fill\">1</span><span class=\"star fill\">2</span><span class=\"star fill\">3</span><span class=\"star fill\">4</span><span class=\"star fill\">5</span></td>\n",
              " </tr>\n",
              " <tr><td class=\"review-rating-header recommended\">Recommended</td><td class=\"review-value rating-yes\">yes</td></tr> </table>\n",
              " </div>\n",
              " </div>\n",
              " </div>\n",
              " <a class=\"toggle-click tc_mobile_only\" href=\"#anchor899037\"></a>\n",
              " </article>,\n",
              " <article class=\"comp comp_media-review-rated list-item media position-content review-898024\" itemprop=\"review\" itemscope=\"\" itemtype=\"http://schema.org/Review\">\n",
              " <meta content=\"2024-06-06\" itemprop=\"datePublished\"/>\n",
              " <div class=\"rating-10\" itemprop=\"reviewRating\" itemscope=\"\" itemtype=\"http://schema.org/Rating\">\n",
              " <span itemprop=\"ratingValue\">7</span>/<span itemprop=\"bestRating\">10</span>\n",
              " </div>\n",
              " <div class=\"body\" id=\"anchor898024\">\n",
              " <h2 class=\"text_header\">\"Business Class product is good\"</h2>\n",
              " <h3 class=\"text_sub_header userStatusWrapper\">\n",
              " <span itemprop=\"author\" itemscope=\"\" itemtype=\"http://schema.org/Person\">\n",
              " <a class=\"userStatus elite\" href=\"/reviewer/reviewer-signup\"><span class=\"userStatusReviewCount\">31 reviews</span><svg class=\"userStatusIcon\" version=\"1.1\" viewbox=\"0 0 307.3 193.5\" xmlns=\"http://www.w3.org/2000/svg\" xmlns:xlink=\"http://www.w3.org/1999/xlink\">\n",
              " <path d=\"M157.9,95c-13.1,5.5-26.3,11.1-38.5,16c-21,8.4-42.4,16-65.1,18.7c-16,1.5-26.5-1-31.6-9.7C15.6,104.3,8.2,88.7,1.1,72.9\n",
              "                 C-2.5,64.8,3.3,61.5,11,62c3.2,0.2,6.6,2.1,9.5,4c8.3,5.6,16.4,11.4,24.4,17.5c5,3.8,9.8,4.1,15.4,1.6c30.8-13.5,61.6-27,92.4-40.3\n",
              "                 c30.4-13.2,60.7-26.4,91.3-39.1c16.9-7,34.3-8.1,51.3-0.1c3.8,1.8,7.2,4.7,10.5,7.4c4.9,4.1-2.8,12.5-21.8,22.7\n",
              "                 c-20.9,10.7-46,22.5-67,33c0,0-31.8,67.3-46.9,99.2c-5.4,11.6-12.7,21.1-25.6,25c-4.4,1.3-5.9,0.5-5.1-4.2\n",
              "                 c1.3-8.1,2.8-16.1,4.4-24.1C147.8,143.9,157.1,98.5,157.9,95z\"></path>\n",
              " <path d=\"M151.7,31.5c-14.3,6.2-30.4,13.2-43.7,18.8c0,0-29.9-17.6-43.4-25.8c-1.6-0.9-2.5-2.8-3.8-4.3c1.4-1,2.6-2.2,4.1-3.1\n",
              "                 c9.9-5.7,20.4-5.7,31-2.8C113.6,19.3,138,27,151.7,31.5z\"></path>\n",
              " </svg></a>\n",
              " <span itemprop=\"name\">Rohith Jayawardene</span></span> (United Kingdom) <time datetime=\"2024-06-06\" itemprop=\"datePublished\">6th June 2024</time></h3>\n",
              " <div class=\"tc_mobile\">\n",
              " <div class=\"text_content\" itemprop=\"reviewBody\">✅ <strong><a href=\"https://www.airlinequality.com/verified-reviews/\"><em>Trip Verified</em></a></strong> |  I had flown Etihad's Boeing 787  in Business Class before, and privacy-wise, the seating is not as good as the A380. Even from my window seat, the rear seat facing passengers was clearly visible. The spacious cabin and decor looked beautiful, and the seat itself, identical to that in the A380s was very comfortable. On boarding, I was addressed by name and pointed in the direction of my seat. The usual, pre-flight drinks and hot towels followed, and pushback was on time. Soon after take off, my dinner order was taken. The dishes listed on the à la carte menu were all enticing, and I chose Salmon for starters. With a choice of four main courses, it was Prawn Biriyani, which was excellent. There was no second meal served as such, instead the 'dine on demand' meant you could order from the 'all-day dining' menu. I had their famous Steak Sandwich and a beer, which was also very good. The cosy 28-seat, 1x2x1 layout cabin (which is becoming more the industry standard) was full. Yet the flight attendants managed to briefly chat with most of us, and several times asked if I needed anything else. The new grey 'cube' bag amenity kit placed on my table looked cute, but was very basic, with a few ESPA lotions, eye shades and a dental kit. The touch screen IFE worked well, however, the choice of new movies was not that great since I last flew eight months ago. Instead, I decided to watch a couple of TV sitcoms before preparing for bed. Most of the seat and lighting adjustments could be controlled both from the side table, as well as from the small tabletop monitor. As it was a night departure, I was hoping to get some rest. Etihad provides slippers, but no PJs for a nine-hour flight. However, the large pillow, mattress pad and duvet sufficed. Adjusting the seat for a harder or softer feel also made a difference. As I sipped my nightcap of black coffee and cognac by my side, and the cabin lights dimmed, I drifted into a good four sleep. Etihad's Business Class product is good, as I have experienced it several times before.</div>\n",
              " <div class=\"review-stats\">\n",
              " <table class=\"review-ratings\">\n",
              " <tr><td class=\"review-rating-header aircraft\">Aircraft</td><td class=\"review-value\">Boeing 787 </td></tr>\n",
              " <tr><td class=\"review-rating-header type_of_traveller\">Type Of Traveller</td><td class=\"review-value\">Business</td></tr>\n",
              " <tr><td class=\"review-rating-header cabin_flown\">Seat Type</td><td class=\"review-value\">Business Class</td></tr>\n",
              " <tr><td class=\"review-rating-header route\">Route</td><td class=\"review-value\">Abu Dhabi to Osaka</td></tr>\n",
              " <tr><td class=\"review-rating-header date_flown\">Date Flown</td><td class=\"review-value\">May 2024</td></tr>\n",
              " <tr>\n",
              " <td class=\"review-rating-header seat_comfort\">Seat Comfort</td>\n",
              " <td class=\"review-rating-stars stars\"><span class=\"star fill\">1</span><span class=\"star fill\">2</span><span class=\"star fill\">3</span><span class=\"star fill\">4</span><span class=\"star\">5</span></td>\n",
              " </tr>\n",
              " <tr>\n",
              " <td class=\"review-rating-header cabin_staff_service\">Cabin Staff Service</td>\n",
              " <td class=\"review-rating-stars stars\"><span class=\"star fill\">1</span><span class=\"star fill\">2</span><span class=\"star fill\">3</span><span class=\"star\">4</span><span class=\"star\">5</span></td>\n",
              " </tr>\n",
              " <tr>\n",
              " <td class=\"review-rating-header food_and_beverages\">Food &amp; Beverages</td>\n",
              " <td class=\"review-rating-stars stars\"><span class=\"star fill\">1</span><span class=\"star fill\">2</span><span class=\"star fill\">3</span><span class=\"star fill\">4</span><span class=\"star\">5</span></td>\n",
              " </tr>\n",
              " <tr>\n",
              " <td class=\"review-rating-header inflight_entertainment\">Inflight Entertainment</td>\n",
              " <td class=\"review-rating-stars stars\"><span class=\"star fill\">1</span><span class=\"star fill\">2</span><span class=\"star\">3</span><span class=\"star\">4</span><span class=\"star\">5</span></td>\n",
              " </tr>\n",
              " <tr>\n",
              " <td class=\"review-rating-header ground_service\">Ground Service</td>\n",
              " <td class=\"review-rating-stars stars\"><span class=\"star fill\">1</span><span class=\"star fill\">2</span><span class=\"star fill\">3</span><span class=\"star fill\">4</span><span class=\"star\">5</span></td>\n",
              " </tr>\n",
              " <tr>\n",
              " <td class=\"review-rating-header value_for_money\">Value For Money</td>\n",
              " <td class=\"review-rating-stars stars\"><span class=\"star fill\">1</span><span class=\"star fill\">2</span><span class=\"star fill\">3</span><span class=\"star fill\">4</span><span class=\"star\">5</span></td>\n",
              " </tr>\n",
              " <tr><td class=\"review-rating-header recommended\">Recommended</td><td class=\"review-value rating-yes\">yes</td></tr><ul class=\"thumbnail_bar\"><li class=\"thumbnail\"><a alt=\"\" href=\"https://www.airlinequality.com/wp-content/uploads/2024/06/Etihad-Dreamliner-Business-Class-Abu-Dhabi-to-Osaka-May-24-1-500x500.jpg\"><img alt=\"\" data-id=\"898026\" src=\"https://www.airlinequality.com/wp-content/uploads/2024/06/Etihad-Dreamliner-Business-Class-Abu-Dhabi-to-Osaka-May-24-1-50x50.jpg\"/></a></li><li class=\"thumbnail\"><a alt=\"\" href=\"https://www.airlinequality.com/wp-content/uploads/2024/06/Etihad-Dreamliner-Business-Class-Abu-Dhabi-to-Osaka-May-24-2-500x500.jpg\"><img alt=\"\" data-id=\"898027\" src=\"https://www.airlinequality.com/wp-content/uploads/2024/06/Etihad-Dreamliner-Business-Class-Abu-Dhabi-to-Osaka-May-24-2-50x50.jpg\"/></a></li><li class=\"thumbnail\"><a alt=\"\" href=\"https://www.airlinequality.com/wp-content/uploads/2024/06/Etihad-Dreamliner-Business-Class-Abu-Dhabi-to-Osaka-May-24-3-500x500.jpg\"><img alt=\"\" data-id=\"898028\" src=\"https://www.airlinequality.com/wp-content/uploads/2024/06/Etihad-Dreamliner-Business-Class-Abu-Dhabi-to-Osaka-May-24-3-50x50.jpg\"/></a></li><li class=\"thumbnail\"><a alt=\"\" href=\"https://www.airlinequality.com/wp-content/uploads/2024/06/Etihad-Dreamliner-Business-Class-Abu-Dhabi-to-Osaka-May-24-4-500x500.jpg\"><img alt=\"\" data-id=\"898029\" src=\"https://www.airlinequality.com/wp-content/uploads/2024/06/Etihad-Dreamliner-Business-Class-Abu-Dhabi-to-Osaka-May-24-4-50x50.jpg\"/></a></li></ul><div class=\"large_review_img\"><img alt=\"\" data-id=\"898026\" src=\"https://www.airlinequality.com/wp-content/uploads/2024/06/Etihad-Dreamliner-Business-Class-Abu-Dhabi-to-Osaka-May-24-1-500x500.jpg\"/><img alt=\"\" data-id=\"898027\" src=\"https://www.airlinequality.com/wp-content/uploads/2024/06/Etihad-Dreamliner-Business-Class-Abu-Dhabi-to-Osaka-May-24-2-500x500.jpg\"/><img alt=\"\" data-id=\"898028\" src=\"https://www.airlinequality.com/wp-content/uploads/2024/06/Etihad-Dreamliner-Business-Class-Abu-Dhabi-to-Osaka-May-24-3-500x500.jpg\"/><img alt=\"\" data-id=\"898029\" src=\"https://www.airlinequality.com/wp-content/uploads/2024/06/Etihad-Dreamliner-Business-Class-Abu-Dhabi-to-Osaka-May-24-4-500x500.jpg\"/><button class=\"close\">Close</button></div> </table>\n",
              " </div>\n",
              " </div>\n",
              " </div>\n",
              " <a class=\"toggle-click tc_mobile_only\" href=\"#anchor898024\"></a>\n",
              " </article>,\n",
              " <article class=\"comp comp_media-review-rated list-item media position-content review-898030\" itemprop=\"review\" itemscope=\"\" itemtype=\"http://schema.org/Review\">\n",
              " <meta content=\"2024-06-06\" itemprop=\"datePublished\"/>\n",
              " <div class=\"rating-10\" itemprop=\"reviewRating\" itemscope=\"\" itemtype=\"http://schema.org/Rating\">\n",
              " <span itemprop=\"ratingValue\">6</span>/<span itemprop=\"bestRating\">10</span>\n",
              " </div>\n",
              " <div class=\"body\" id=\"anchor898030\">\n",
              " <h2 class=\"text_header\">\"nothing really to complain about\"</h2>\n",
              " <h3 class=\"text_sub_header userStatusWrapper\">\n",
              " <span itemprop=\"author\" itemscope=\"\" itemtype=\"http://schema.org/Person\">\n",
              " <a class=\"userStatus elite\" href=\"/reviewer/reviewer-signup\"><span class=\"userStatusReviewCount\">31 reviews</span><svg class=\"userStatusIcon\" version=\"1.1\" viewbox=\"0 0 307.3 193.5\" xmlns=\"http://www.w3.org/2000/svg\" xmlns:xlink=\"http://www.w3.org/1999/xlink\">\n",
              " <path d=\"M157.9,95c-13.1,5.5-26.3,11.1-38.5,16c-21,8.4-42.4,16-65.1,18.7c-16,1.5-26.5-1-31.6-9.7C15.6,104.3,8.2,88.7,1.1,72.9\n",
              "                 C-2.5,64.8,3.3,61.5,11,62c3.2,0.2,6.6,2.1,9.5,4c8.3,5.6,16.4,11.4,24.4,17.5c5,3.8,9.8,4.1,15.4,1.6c30.8-13.5,61.6-27,92.4-40.3\n",
              "                 c30.4-13.2,60.7-26.4,91.3-39.1c16.9-7,34.3-8.1,51.3-0.1c3.8,1.8,7.2,4.7,10.5,7.4c4.9,4.1-2.8,12.5-21.8,22.7\n",
              "                 c-20.9,10.7-46,22.5-67,33c0,0-31.8,67.3-46.9,99.2c-5.4,11.6-12.7,21.1-25.6,25c-4.4,1.3-5.9,0.5-5.1-4.2\n",
              "                 c1.3-8.1,2.8-16.1,4.4-24.1C147.8,143.9,157.1,98.5,157.9,95z\"></path>\n",
              " <path d=\"M151.7,31.5c-14.3,6.2-30.4,13.2-43.7,18.8c0,0-29.9-17.6-43.4-25.8c-1.6-0.9-2.5-2.8-3.8-4.3c1.4-1,2.6-2.2,4.1-3.1\n",
              "                 c9.9-5.7,20.4-5.7,31-2.8C113.6,19.3,138,27,151.7,31.5z\"></path>\n",
              " </svg></a>\n",
              " <span itemprop=\"name\">Rohith Jayawardene</span></span> (United Kingdom) <time datetime=\"2024-06-06\" itemprop=\"datePublished\">6th June 2024</time></h3>\n",
              " <div class=\"tc_mobile\">\n",
              " <div class=\"text_content\" itemprop=\"reviewBody\">✅ <strong><a href=\"https://www.airlinequality.com/verified-reviews/\"><em>Trip Verified</em></a></strong> |  I hadn't flown Etihad's Economy Class for a long time and wasn't exactly looking forward to a nine and a half hour flight to Abu Dhabi, an eight hour layover, and another seven hour flight back to London. The check-in and boarding process at Kansai Airport was poorly handled. It was agonizingly slow, with business class and economy passengers being moved about to different counters. At the boarding gates, unlike some flights where there are dedicated spaces for each flight, here we were crowded between two flight queues right next to each other, both boarding at the same time. One staff member was carrying a small placard walking up and down the queue, advising which group of rows could start boarding. However, the flight was only delayed by 20 minutes. The first flight on the Dreamliner has a 3x3x3 layout. The seat itself and legroom was reasonably comfortable, I guess only because I am not tall. The flight was full and the service began as soon as the seat belt sign was turned off. There were two meal services on this flight. It was sad to see how much the size of the meal tray has shrunk. The first meal ran out of choice, and I had to settle for some bland pasta. Having apologized, I was promised a choice of the second meal and the shrimp curry with rice which was delicious. Drinks were served with meals, and followed by coffee or tea afterwards. Later I was able to request an extra drink, but had to wait a long time to be served. The seat has about 3 inches recline, although mine wasn't working. Once the lights were dimmed, I did manage to nod off a for an hour or so. At Abu Dhabi, before the flight back to London, I was relieved to relax at Etihad's Business Lounge as I was a Guest Member. Boarding at Abu Dhabi was expertly handled, with clear messaging for which seating rows to come forward. On the A380 to Heathrow, I had paid for an 'extra legroom seat', which has 4 more inches of extra space, and did make a difference in comfort. Located in the front of the aircraft, and curtained off like a separate cabin, it felt more relaxing. The onboard service was of course the same as the rest in Economy class. It was a bright blue sky day as we departed on time. The interactive IFE route map showed the exterior tail camera and an excellent view of the aircraft taxing and taking off. Both flights were nothing special, and the service was as you would expect on a long-haul economy class flight. The A380 was certainly more comfortable than the Dreamliner. Although non-engaging, on both flights, the cabin crew were professional, so I have nothing really to complain about.</div>\n",
              " <div class=\"review-stats\">\n",
              " <table class=\"review-ratings\">\n",
              " <tr><td class=\"review-rating-header aircraft\">Aircraft</td><td class=\"review-value\">Boeing 787 / A380</td></tr>\n",
              " <tr><td class=\"review-rating-header type_of_traveller\">Type Of Traveller</td><td class=\"review-value\">Business</td></tr>\n",
              " <tr><td class=\"review-rating-header cabin_flown\">Seat Type</td><td class=\"review-value\">Economy Class</td></tr>\n",
              " <tr><td class=\"review-rating-header route\">Route</td><td class=\"review-value\">Osaka to London Heathrow via Abu Dhabi</td></tr>\n",
              " <tr><td class=\"review-rating-header date_flown\">Date Flown</td><td class=\"review-value\">May 2024</td></tr>\n",
              " <tr>\n",
              " <td class=\"review-rating-header seat_comfort\">Seat Comfort</td>\n",
              " <td class=\"review-rating-stars stars\"><span class=\"star fill\">1</span><span class=\"star fill\">2</span><span class=\"star fill\">3</span><span class=\"star\">4</span><span class=\"star\">5</span></td>\n",
              " </tr>\n",
              " <tr>\n",
              " <td class=\"review-rating-header cabin_staff_service\">Cabin Staff Service</td>\n",
              " <td class=\"review-rating-stars stars\"><span class=\"star fill\">1</span><span class=\"star fill\">2</span><span class=\"star fill\">3</span><span class=\"star\">4</span><span class=\"star\">5</span></td>\n",
              " </tr>\n",
              " <tr>\n",
              " <td class=\"review-rating-header food_and_beverages\">Food &amp; Beverages</td>\n",
              " <td class=\"review-rating-stars stars\"><span class=\"star fill\">1</span><span class=\"star fill\">2</span><span class=\"star fill\">3</span><span class=\"star\">4</span><span class=\"star\">5</span></td>\n",
              " </tr>\n",
              " <tr>\n",
              " <td class=\"review-rating-header inflight_entertainment\">Inflight Entertainment</td>\n",
              " <td class=\"review-rating-stars stars\"><span class=\"star fill\">1</span><span class=\"star fill\">2</span><span class=\"star\">3</span><span class=\"star\">4</span><span class=\"star\">5</span></td>\n",
              " </tr>\n",
              " <tr>\n",
              " <td class=\"review-rating-header ground_service\">Ground Service</td>\n",
              " <td class=\"review-rating-stars stars\"><span class=\"star fill\">1</span><span class=\"star fill\">2</span><span class=\"star\">3</span><span class=\"star\">4</span><span class=\"star\">5</span></td>\n",
              " </tr>\n",
              " <tr>\n",
              " <td class=\"review-rating-header value_for_money\">Value For Money</td>\n",
              " <td class=\"review-rating-stars stars\"><span class=\"star fill\">1</span><span class=\"star fill\">2</span><span class=\"star fill\">3</span><span class=\"star fill\">4</span><span class=\"star\">5</span></td>\n",
              " </tr>\n",
              " <tr><td class=\"review-rating-header recommended\">Recommended</td><td class=\"review-value rating-yes\">yes</td></tr><ul class=\"thumbnail_bar\"><li class=\"thumbnail\"><a alt=\"\" href=\"https://www.airlinequality.com/wp-content/uploads/2024/06/Etihad-A380-Economy-Class-Extra-Leg-Room-Seat-Abu-Dhabi-to-London-2-500x500.jpg\"><img alt=\"\" data-id=\"898032\" src=\"https://www.airlinequality.com/wp-content/uploads/2024/06/Etihad-A380-Economy-Class-Extra-Leg-Room-Seat-Abu-Dhabi-to-London-2-50x50.jpg\"/></a></li><li class=\"thumbnail\"><a alt=\"\" href=\"https://www.airlinequality.com/wp-content/uploads/2024/06/Etihad-A380-Economy-Class-Extra-Leg-Room-Seat-Abu-Dhabi-to-London-1-500x500.jpg\"><img alt=\"\" data-id=\"898033\" src=\"https://www.airlinequality.com/wp-content/uploads/2024/06/Etihad-A380-Economy-Class-Extra-Leg-Room-Seat-Abu-Dhabi-to-London-1-50x50.jpg\"/></a></li><li class=\"thumbnail\"><a alt=\"\" href=\"https://www.airlinequality.com/wp-content/uploads/2024/06/Etihad-A380-Economy-Class-IFE-Tail-Camera-Take-Off-view-Abu-Dhabi-to-London-3-500x500.jpg\"><img alt=\"\" data-id=\"898034\" src=\"https://www.airlinequality.com/wp-content/uploads/2024/06/Etihad-A380-Economy-Class-IFE-Tail-Camera-Take-Off-view-Abu-Dhabi-to-London-3-50x50.jpg\"/></a></li><li class=\"thumbnail\"><a alt=\"\" href=\"https://www.airlinequality.com/wp-content/uploads/2024/06/Etihad-A380-Economy-Class-IFE-interactive-map-Abu-Dhabi-to-London-4-500x500.jpg\"><img alt=\"\" data-id=\"898035\" src=\"https://www.airlinequality.com/wp-content/uploads/2024/06/Etihad-A380-Economy-Class-IFE-interactive-map-Abu-Dhabi-to-London-4-50x50.jpg\"/></a></li></ul><div class=\"large_review_img\"><img alt=\"\" data-id=\"898032\" src=\"https://www.airlinequality.com/wp-content/uploads/2024/06/Etihad-A380-Economy-Class-Extra-Leg-Room-Seat-Abu-Dhabi-to-London-2-500x500.jpg\"/><img alt=\"\" data-id=\"898033\" src=\"https://www.airlinequality.com/wp-content/uploads/2024/06/Etihad-A380-Economy-Class-Extra-Leg-Room-Seat-Abu-Dhabi-to-London-1-500x500.jpg\"/><img alt=\"\" data-id=\"898034\" src=\"https://www.airlinequality.com/wp-content/uploads/2024/06/Etihad-A380-Economy-Class-IFE-Tail-Camera-Take-Off-view-Abu-Dhabi-to-London-3-500x500.jpg\"/><img alt=\"\" data-id=\"898035\" src=\"https://www.airlinequality.com/wp-content/uploads/2024/06/Etihad-A380-Economy-Class-IFE-interactive-map-Abu-Dhabi-to-London-4-500x500.jpg\"/><button class=\"close\">Close</button></div> </table>\n",
              " </div>\n",
              " </div>\n",
              " </div>\n",
              " <a class=\"toggle-click tc_mobile_only\" href=\"#anchor898030\"></a>\n",
              " </article>,\n",
              " <article class=\"comp comp_media-review-rated list-item media position-content review-897901\" itemprop=\"review\" itemscope=\"\" itemtype=\"http://schema.org/Review\">\n",
              " <meta content=\"2024-06-05\" itemprop=\"datePublished\"/>\n",
              " <div class=\"rating-10\" itemprop=\"reviewRating\" itemscope=\"\" itemtype=\"http://schema.org/Rating\">\n",
              " <span itemprop=\"ratingValue\">2</span>/<span itemprop=\"bestRating\">10</span>\n",
              " </div>\n",
              " <div class=\"body\" id=\"anchor897901\">\n",
              " <h2 class=\"text_header\">\"I have submitted 3 claims\"</h2>\n",
              " <h3 class=\"text_sub_header userStatusWrapper\">\n",
              " <span itemprop=\"author\" itemscope=\"\" itemtype=\"http://schema.org/Person\">\n",
              " <span itemprop=\"name\">R Hassin</span></span> (Pakistan) <time datetime=\"2024-06-05\" itemprop=\"datePublished\">5th June 2024</time></h3>\n",
              " <div class=\"tc_mobile\">\n",
              " <div class=\"text_content\" itemprop=\"reviewBody\">✅ <strong><a href=\"https://www.airlinequality.com/verified-reviews/\"><em>Trip Verified</em></a></strong> |  For the last 3 months I am waiting for my bag. I have submitted 3 claims, one of your member offer me very low amount which are very less to my luggage things present in it. After that no one reply my emails. I want know what i do now for my lost bag. Very Sad about Etihad response</div>\n",
              " <div class=\"review-stats\">\n",
              " <table class=\"review-ratings\">\n",
              " <tr><td class=\"review-rating-header type_of_traveller\">Type Of Traveller</td><td class=\"review-value\">Solo Leisure</td></tr>\n",
              " <tr><td class=\"review-rating-header cabin_flown\">Seat Type</td><td class=\"review-value\">Economy Class</td></tr>\n",
              " <tr><td class=\"review-rating-header route\">Route</td><td class=\"review-value\">London to Islamabad via Abu Dhabi</td></tr>\n",
              " <tr><td class=\"review-rating-header date_flown\">Date Flown</td><td class=\"review-value\">March 2024</td></tr>\n",
              " <tr>\n",
              " <td class=\"review-rating-header seat_comfort\">Seat Comfort</td>\n",
              " <td class=\"review-rating-stars stars\"><span class=\"star fill\">1</span><span class=\"star fill\">2</span><span class=\"star fill\">3</span><span class=\"star fill\">4</span><span class=\"star\">5</span></td>\n",
              " </tr>\n",
              " <tr>\n",
              " <td class=\"review-rating-header cabin_staff_service\">Cabin Staff Service</td>\n",
              " <td class=\"review-rating-stars stars\"><span class=\"star fill\">1</span><span class=\"star fill\">2</span><span class=\"star fill\">3</span><span class=\"star fill\">4</span><span class=\"star fill\">5</span></td>\n",
              " </tr>\n",
              " <tr>\n",
              " <td class=\"review-rating-header food_and_beverages\">Food &amp; Beverages</td>\n",
              " <td class=\"review-rating-stars stars\"><span class=\"star fill\">1</span><span class=\"star fill\">2</span><span class=\"star fill\">3</span><span class=\"star fill\">4</span><span class=\"star\">5</span></td>\n",
              " </tr>\n",
              " <tr>\n",
              " <td class=\"review-rating-header inflight_entertainment\">Inflight Entertainment</td>\n",
              " <td class=\"review-rating-stars stars\"><span class=\"star fill\">1</span><span class=\"star fill\">2</span><span class=\"star fill\">3</span><span class=\"star\">4</span><span class=\"star\">5</span></td>\n",
              " </tr>\n",
              " <tr>\n",
              " <td class=\"review-rating-header ground_service\">Ground Service</td>\n",
              " <td class=\"review-rating-stars stars\"><span class=\"star fill\">1</span><span class=\"star\">2</span><span class=\"star\">3</span><span class=\"star\">4</span><span class=\"star\">5</span></td>\n",
              " </tr>\n",
              " <tr>\n",
              " <td class=\"review-rating-header value_for_money\">Value For Money</td>\n",
              " <td class=\"review-rating-stars stars\"><span class=\"star fill\">1</span><span class=\"star fill\">2</span><span class=\"star fill\">3</span><span class=\"star\">4</span><span class=\"star\">5</span></td>\n",
              " </tr>\n",
              " <tr><td class=\"review-rating-header recommended\">Recommended</td><td class=\"review-value rating-no\">no</td></tr> </table>\n",
              " </div>\n",
              " </div>\n",
              " </div>\n",
              " <a class=\"toggle-click tc_mobile_only\" href=\"#anchor897901\"></a>\n",
              " </article>,\n",
              " <article class=\"comp comp_media-review-rated list-item media position-content review-897859\" itemprop=\"review\" itemscope=\"\" itemtype=\"http://schema.org/Review\">\n",
              " <meta content=\"2024-06-04\" itemprop=\"datePublished\"/>\n",
              " <div class=\"rating-10\" itemprop=\"reviewRating\" itemscope=\"\" itemtype=\"http://schema.org/Rating\">\n",
              " <span itemprop=\"ratingValue\">3</span>/<span itemprop=\"bestRating\">10</span>\n",
              " </div>\n",
              " <div class=\"body\" id=\"anchor897859\">\n",
              " <h2 class=\"text_header\">\"Ground staff needs training\"</h2>\n",
              " <h3 class=\"text_sub_header userStatusWrapper\">\n",
              " <span itemprop=\"author\" itemscope=\"\" itemtype=\"http://schema.org/Person\">\n",
              " <span itemprop=\"name\">H Galaran</span></span> (United Kingdom) <time datetime=\"2024-06-04\" itemprop=\"datePublished\">4th June 2024</time></h3>\n",
              " <div class=\"tc_mobile\">\n",
              " <div class=\"text_content\" itemprop=\"reviewBody\">✅ <strong><a href=\"https://www.airlinequality.com/verified-reviews/\"><em>Trip Verified</em></a></strong> |  On may 14, i came to check in and i was told I'm over nearly 2 kgs. The first lady told me i still have extra space in my cabin trolley then could make use of that. Came back 2nd time to another staff and she told me my trolley is 8 kgs and ask me if i got laptop. I said i got small laptop in my medium tote bag, she said i need to weigh your shoulder bag. I never been humiliated before, she said its 3 kgs and advised me to put that extra back to my check ins and just pay £100. To avoid further embarrassment, i agreed. Came back to counter 3rd time and this time a different ground staff said you will pay £153. Make use of that space in your cabin trolley and pay nothing. I had enough and told her i have been repacking 3x now. She apologised few times. I have been embarassed so let me pay £153 and  paid. Ground staff needs training.</div>\n",
              " <div class=\"review-stats\">\n",
              " <table class=\"review-ratings\">\n",
              " <tr><td class=\"review-rating-header type_of_traveller\">Type Of Traveller</td><td class=\"review-value\">Solo Leisure</td></tr>\n",
              " <tr><td class=\"review-rating-header cabin_flown\">Seat Type</td><td class=\"review-value\">Economy Class</td></tr>\n",
              " <tr><td class=\"review-rating-header route\">Route</td><td class=\"review-value\">London to Manila via Abu Dhabi</td></tr>\n",
              " <tr><td class=\"review-rating-header date_flown\">Date Flown</td><td class=\"review-value\">May 2024</td></tr>\n",
              " <tr>\n",
              " <td class=\"review-rating-header seat_comfort\">Seat Comfort</td>\n",
              " <td class=\"review-rating-stars stars\"><span class=\"star fill\">1</span><span class=\"star fill\">2</span><span class=\"star fill\">3</span><span class=\"star fill\">4</span><span class=\"star\">5</span></td>\n",
              " </tr>\n",
              " <tr>\n",
              " <td class=\"review-rating-header cabin_staff_service\">Cabin Staff Service</td>\n",
              " <td class=\"review-rating-stars stars\"><span class=\"star fill\">1</span><span class=\"star fill\">2</span><span class=\"star fill\">3</span><span class=\"star fill\">4</span><span class=\"star\">5</span></td>\n",
              " </tr>\n",
              " <tr>\n",
              " <td class=\"review-rating-header food_and_beverages\">Food &amp; Beverages</td>\n",
              " <td class=\"review-rating-stars stars\"><span class=\"star fill\">1</span><span class=\"star fill\">2</span><span class=\"star fill\">3</span><span class=\"star\">4</span><span class=\"star\">5</span></td>\n",
              " </tr>\n",
              " <tr>\n",
              " <td class=\"review-rating-header inflight_entertainment\">Inflight Entertainment</td>\n",
              " <td class=\"review-rating-stars stars\"><span class=\"star fill\">1</span><span class=\"star fill\">2</span><span class=\"star fill\">3</span><span class=\"star\">4</span><span class=\"star\">5</span></td>\n",
              " </tr>\n",
              " <tr>\n",
              " <td class=\"review-rating-header ground_service\">Ground Service</td>\n",
              " <td class=\"review-rating-stars stars\"><span class=\"star fill\">1</span><span class=\"star\">2</span><span class=\"star\">3</span><span class=\"star\">4</span><span class=\"star\">5</span></td>\n",
              " </tr>\n",
              " <tr>\n",
              " <td class=\"review-rating-header value_for_money\">Value For Money</td>\n",
              " <td class=\"review-rating-stars stars\"><span class=\"star fill\">1</span><span class=\"star fill\">2</span><span class=\"star fill\">3</span><span class=\"star\">4</span><span class=\"star\">5</span></td>\n",
              " </tr>\n",
              " <tr><td class=\"review-rating-header recommended\">Recommended</td><td class=\"review-value rating-no\">no</td></tr> </table>\n",
              " </div>\n",
              " </div>\n",
              " </div>\n",
              " <a class=\"toggle-click tc_mobile_only\" href=\"#anchor897859\"></a>\n",
              " </article>,\n",
              " <article class=\"comp comp_media-review-rated list-item media position-content review-897843\" itemprop=\"review\" itemscope=\"\" itemtype=\"http://schema.org/Review\">\n",
              " <meta content=\"2024-06-04\" itemprop=\"datePublished\"/>\n",
              " <div class=\"rating-10\" itemprop=\"reviewRating\" itemscope=\"\" itemtype=\"http://schema.org/Rating\">\n",
              " <span itemprop=\"ratingValue\">8</span>/<span itemprop=\"bestRating\">10</span>\n",
              " </div>\n",
              " <div class=\"body\" id=\"anchor897843\">\n",
              " <h2 class=\"text_header\">“I did enjoy it very much”</h2>\n",
              " <h3 class=\"text_sub_header userStatusWrapper\">\n",
              " <span itemprop=\"author\" itemscope=\"\" itemtype=\"http://schema.org/Person\">\n",
              " <a class=\"userStatus elite\" href=\"/reviewer/reviewer-signup\"><span class=\"userStatusReviewCount\">31 reviews</span><svg class=\"userStatusIcon\" version=\"1.1\" viewbox=\"0 0 307.3 193.5\" xmlns=\"http://www.w3.org/2000/svg\" xmlns:xlink=\"http://www.w3.org/1999/xlink\">\n",
              " <path d=\"M157.9,95c-13.1,5.5-26.3,11.1-38.5,16c-21,8.4-42.4,16-65.1,18.7c-16,1.5-26.5-1-31.6-9.7C15.6,104.3,8.2,88.7,1.1,72.9\n",
              "                 C-2.5,64.8,3.3,61.5,11,62c3.2,0.2,6.6,2.1,9.5,4c8.3,5.6,16.4,11.4,24.4,17.5c5,3.8,9.8,4.1,15.4,1.6c30.8-13.5,61.6-27,92.4-40.3\n",
              "                 c30.4-13.2,60.7-26.4,91.3-39.1c16.9-7,34.3-8.1,51.3-0.1c3.8,1.8,7.2,4.7,10.5,7.4c4.9,4.1-2.8,12.5-21.8,22.7\n",
              "                 c-20.9,10.7-46,22.5-67,33c0,0-31.8,67.3-46.9,99.2c-5.4,11.6-12.7,21.1-25.6,25c-4.4,1.3-5.9,0.5-5.1-4.2\n",
              "                 c1.3-8.1,2.8-16.1,4.4-24.1C147.8,143.9,157.1,98.5,157.9,95z\"></path>\n",
              " <path d=\"M151.7,31.5c-14.3,6.2-30.4,13.2-43.7,18.8c0,0-29.9-17.6-43.4-25.8c-1.6-0.9-2.5-2.8-3.8-4.3c1.4-1,2.6-2.2,4.1-3.1\n",
              "                 c9.9-5.7,20.4-5.7,31-2.8C113.6,19.3,138,27,151.7,31.5z\"></path>\n",
              " </svg></a>\n",
              " <span itemprop=\"name\">Rohith Jayawardene</span></span> (United Kingdom) <time datetime=\"2024-06-04\" itemprop=\"datePublished\">4th June 2024</time></h3>\n",
              " <div class=\"tc_mobile\">\n",
              " <div class=\"text_content\" itemprop=\"reviewBody\">✅ <strong><a href=\"https://www.airlinequality.com/verified-reviews/\"><em>Trip Verified</em></a></strong> | Nearly eight months ago, I took this exact flight to Abu Dhabi, and was expecting the same professional onboard service I enjoyed before. This time flying with cabin baggage only - a generous 12 kg, plus another 5kg 'handbag'. I therefore understood why they had to weigh each item on check-in. The boarding process was swift, and I was served both champagne and a lovely mint and lemon drink as soon as I settled down. Hot towels followed, and slippers were provided. Etihad's 'dine on demand' for some reason did not materialize nor was it offered. Soon after take off, and at cruising altitude, the bar service followed, and lunch was served. For the rest of the flight the à la carte 'all-day dining menu' meant I could request the next meal or snack when needed. A nice touch is that I could also order my drinks from the IFE monitor. Seat comfort adjustments, massage and lighting could be controlled both from the side table, as well as from the small tabletop monitor. If I had something to mildly grumble about, two noticeable differences compared to my previous flight was - a new but very basic ESPA amenity kit (I missed the cologne which was included in their previous Acqua di Parma products). I was also rather disappointed with the lack of more new movies, although there was plenty to choose from TV shows, documentaries, news channels and games. Later, I spent a little time at the small lounge which was empty, and helped myself to a drink at the self-service bar, and a crew member served me coffee and chocolates. Although the necessary bedding was provided, like a soft mattress, duvet and large pillow, I resisted a nap as I had a long layover ahead of me on my next flight from Abu Dhabi, and would get some sleep at their lounge. A non-eventful flight, nevertheless as before, I did enjoy it very much, especially the friendly cabin crew.</div>\n",
              " <div class=\"review-stats\">\n",
              " <table class=\"review-ratings\">\n",
              " <tr><td class=\"review-rating-header aircraft\">Aircraft</td><td class=\"review-value\">A380</td></tr>\n",
              " <tr><td class=\"review-rating-header type_of_traveller\">Type Of Traveller</td><td class=\"review-value\">Business</td></tr>\n",
              " <tr><td class=\"review-rating-header cabin_flown\">Seat Type</td><td class=\"review-value\">Business Class</td></tr>\n",
              " <tr><td class=\"review-rating-header route\">Route</td><td class=\"review-value\">London Heathrow to Abu Dhabi</td></tr>\n",
              " <tr><td class=\"review-rating-header date_flown\">Date Flown</td><td class=\"review-value\">May 2024</td></tr>\n",
              " <tr>\n",
              " <td class=\"review-rating-header seat_comfort\">Seat Comfort</td>\n",
              " <td class=\"review-rating-stars stars\"><span class=\"star fill\">1</span><span class=\"star fill\">2</span><span class=\"star fill\">3</span><span class=\"star fill\">4</span><span class=\"star\">5</span></td>\n",
              " </tr>\n",
              " <tr>\n",
              " <td class=\"review-rating-header cabin_staff_service\">Cabin Staff Service</td>\n",
              " <td class=\"review-rating-stars stars\"><span class=\"star fill\">1</span><span class=\"star fill\">2</span><span class=\"star fill\">3</span><span class=\"star fill\">4</span><span class=\"star\">5</span></td>\n",
              " </tr>\n",
              " <tr>\n",
              " <td class=\"review-rating-header food_and_beverages\">Food &amp; Beverages</td>\n",
              " <td class=\"review-rating-stars stars\"><span class=\"star fill\">1</span><span class=\"star fill\">2</span><span class=\"star fill\">3</span><span class=\"star fill\">4</span><span class=\"star\">5</span></td>\n",
              " </tr>\n",
              " <tr>\n",
              " <td class=\"review-rating-header inflight_entertainment\">Inflight Entertainment</td>\n",
              " <td class=\"review-rating-stars stars\"><span class=\"star fill\">1</span><span class=\"star fill\">2</span><span class=\"star\">3</span><span class=\"star\">4</span><span class=\"star\">5</span></td>\n",
              " </tr>\n",
              " <tr>\n",
              " <td class=\"review-rating-header ground_service\">Ground Service</td>\n",
              " <td class=\"review-rating-stars stars\"><span class=\"star fill\">1</span><span class=\"star fill\">2</span><span class=\"star fill\">3</span><span class=\"star fill\">4</span><span class=\"star\">5</span></td>\n",
              " </tr>\n",
              " <tr>\n",
              " <td class=\"review-rating-header value_for_money\">Value For Money</td>\n",
              " <td class=\"review-rating-stars stars\"><span class=\"star fill\">1</span><span class=\"star fill\">2</span><span class=\"star fill\">3</span><span class=\"star fill\">4</span><span class=\"star\">5</span></td>\n",
              " </tr>\n",
              " <tr><td class=\"review-rating-header recommended\">Recommended</td><td class=\"review-value rating-yes\">yes</td></tr><ul class=\"thumbnail_bar\"><li class=\"thumbnail\"><a alt=\"\" href=\"https://www.airlinequality.com/wp-content/uploads/2024/06/Etihad-A380-Business-Class-LHR-to-Abu-Dhabi-May-24-1-500x500.jpg\"><img alt=\"\" data-id=\"897845\" src=\"https://www.airlinequality.com/wp-content/uploads/2024/06/Etihad-A380-Business-Class-LHR-to-Abu-Dhabi-May-24-1-50x50.jpg\"/></a></li><li class=\"thumbnail\"><a alt=\"\" href=\"https://www.airlinequality.com/wp-content/uploads/2024/06/Etihad-A380-Business-Class-LHR-to-Abu-Dhabi-May-24-3-500x500.jpg\"><img alt=\"\" data-id=\"897846\" src=\"https://www.airlinequality.com/wp-content/uploads/2024/06/Etihad-A380-Business-Class-LHR-to-Abu-Dhabi-May-24-3-50x50.jpg\"/></a></li><li class=\"thumbnail\"><a alt=\"\" href=\"https://www.airlinequality.com/wp-content/uploads/2024/06/Etihad-A380-Business-Class-LHR-to-Abu-Dhabi-May-24-5-500x500.jpg\"><img alt=\"\" data-id=\"897847\" src=\"https://www.airlinequality.com/wp-content/uploads/2024/06/Etihad-A380-Business-Class-LHR-to-Abu-Dhabi-May-24-5-50x50.jpg\"/></a></li><li class=\"thumbnail\"><a alt=\"\" href=\"https://www.airlinequality.com/wp-content/uploads/2024/06/Etihad-A380-Business-Class-LHR-to-Abu-Dhabi-May-24-4-500x500.jpg\"><img alt=\"\" data-id=\"897848\" src=\"https://www.airlinequality.com/wp-content/uploads/2024/06/Etihad-A380-Business-Class-LHR-to-Abu-Dhabi-May-24-4-50x50.jpg\"/></a></li></ul><div class=\"large_review_img\"><img alt=\"\" data-id=\"897845\" src=\"https://www.airlinequality.com/wp-content/uploads/2024/06/Etihad-A380-Business-Class-LHR-to-Abu-Dhabi-May-24-1-500x500.jpg\"/><img alt=\"\" data-id=\"897846\" src=\"https://www.airlinequality.com/wp-content/uploads/2024/06/Etihad-A380-Business-Class-LHR-to-Abu-Dhabi-May-24-3-500x500.jpg\"/><img alt=\"\" data-id=\"897847\" src=\"https://www.airlinequality.com/wp-content/uploads/2024/06/Etihad-A380-Business-Class-LHR-to-Abu-Dhabi-May-24-5-500x500.jpg\"/><img alt=\"\" data-id=\"897848\" src=\"https://www.airlinequality.com/wp-content/uploads/2024/06/Etihad-A380-Business-Class-LHR-to-Abu-Dhabi-May-24-4-500x500.jpg\"/><button class=\"close\">Close</button></div> </table>\n",
              " </div>\n",
              " </div>\n",
              " </div>\n",
              " <a class=\"toggle-click tc_mobile_only\" href=\"#anchor897843\"></a>\n",
              " </article>,\n",
              " <article class=\"comp comp_media-review-rated list-item media position-content review-897209\" itemprop=\"review\" itemscope=\"\" itemtype=\"http://schema.org/Review\">\n",
              " <meta content=\"2024-05-29\" itemprop=\"datePublished\"/>\n",
              " <div class=\"rating-10\" itemprop=\"reviewRating\" itemscope=\"\" itemtype=\"http://schema.org/Rating\">\n",
              " <span itemprop=\"ratingValue\">1</span>/<span itemprop=\"bestRating\">10</span>\n",
              " </div>\n",
              " <div class=\"body\" id=\"anchor897209\">\n",
              " <h2 class=\"text_header\">\"Never again Etihad\"</h2>\n",
              " <h3 class=\"text_sub_header userStatusWrapper\">\n",
              " <span itemprop=\"author\" itemscope=\"\" itemtype=\"http://schema.org/Person\">\n",
              " <span itemprop=\"name\">Roxanne Wang</span></span> (United Kingdom) <time datetime=\"2024-05-29\" itemprop=\"datePublished\">29th May 2024</time></h3>\n",
              " <div class=\"tc_mobile\">\n",
              " <div class=\"text_content\" itemprop=\"reviewBody\">✅ <strong><a href=\"https://www.airlinequality.com/verified-reviews/\"><em>Trip Verified</em></a></strong> |  This airline do not know how to handle baby strollers, we had the experience of having our double stroller damaged beyond repair and Etihad say it's not their faults, won't check with ground staff in Abu Dhabi instead try to bribe us with 50usd. We cannot just buy a new stroller now we must suffer without one. Because of airline negligence and disrespectful staff Never again Etihad.</div>\n",
              " <div class=\"review-stats\">\n",
              " <table class=\"review-ratings\">\n",
              " <tr><td class=\"review-rating-header type_of_traveller\">Type Of Traveller</td><td class=\"review-value\">Family Leisure</td></tr>\n",
              " <tr><td class=\"review-rating-header cabin_flown\">Seat Type</td><td class=\"review-value\">Economy Class</td></tr>\n",
              " <tr><td class=\"review-rating-header route\">Route</td><td class=\"review-value\">Johannesburg to London via Abu Dhabi</td></tr>\n",
              " <tr><td class=\"review-rating-header date_flown\">Date Flown</td><td class=\"review-value\">March 2024</td></tr>\n",
              " <tr>\n",
              " <td class=\"review-rating-header seat_comfort\">Seat Comfort</td>\n",
              " <td class=\"review-rating-stars stars\"><span class=\"star fill\">1</span><span class=\"star fill\">2</span><span class=\"star fill\">3</span><span class=\"star\">4</span><span class=\"star\">5</span></td>\n",
              " </tr>\n",
              " <tr>\n",
              " <td class=\"review-rating-header cabin_staff_service\">Cabin Staff Service</td>\n",
              " <td class=\"review-rating-stars stars\"><span class=\"star fill\">1</span><span class=\"star\">2</span><span class=\"star\">3</span><span class=\"star\">4</span><span class=\"star\">5</span></td>\n",
              " </tr>\n",
              " <tr>\n",
              " <td class=\"review-rating-header food_and_beverages\">Food &amp; Beverages</td>\n",
              " <td class=\"review-rating-stars stars\"><span class=\"star fill\">1</span><span class=\"star\">2</span><span class=\"star\">3</span><span class=\"star\">4</span><span class=\"star\">5</span></td>\n",
              " </tr>\n",
              " <tr>\n",
              " <td class=\"review-rating-header inflight_entertainment\">Inflight Entertainment</td>\n",
              " <td class=\"review-rating-stars stars\"><span class=\"star fill\">1</span><span class=\"star fill\">2</span><span class=\"star fill\">3</span><span class=\"star\">4</span><span class=\"star\">5</span></td>\n",
              " </tr>\n",
              " <tr>\n",
              " <td class=\"review-rating-header ground_service\">Ground Service</td>\n",
              " <td class=\"review-rating-stars stars\"><span class=\"star fill\">1</span><span class=\"star\">2</span><span class=\"star\">3</span><span class=\"star\">4</span><span class=\"star\">5</span></td>\n",
              " </tr>\n",
              " <tr>\n",
              " <td class=\"review-rating-header wifi_and_connectivity\">Wifi &amp; Connectivity</td>\n",
              " <td class=\"review-rating-stars stars\"><span class=\"star fill\">1</span><span class=\"star\">2</span><span class=\"star\">3</span><span class=\"star\">4</span><span class=\"star\">5</span></td>\n",
              " </tr>\n",
              " <tr>\n",
              " <td class=\"review-rating-header value_for_money\">Value For Money</td>\n",
              " <td class=\"review-rating-stars stars\"><span class=\"star fill\">1</span><span class=\"star\">2</span><span class=\"star\">3</span><span class=\"star\">4</span><span class=\"star\">5</span></td>\n",
              " </tr>\n",
              " <tr><td class=\"review-rating-header recommended\">Recommended</td><td class=\"review-value rating-no\">no</td></tr> </table>\n",
              " </div>\n",
              " </div>\n",
              " </div>\n",
              " <a class=\"toggle-click tc_mobile_only\" href=\"#anchor897209\"></a>\n",
              " </article>,\n",
              " <article class=\"comp comp_media-review-rated list-item media position-content review-896548\" itemprop=\"review\" itemscope=\"\" itemtype=\"http://schema.org/Review\">\n",
              " <meta content=\"2024-05-22\" itemprop=\"datePublished\"/>\n",
              " <div class=\"rating-10\" itemprop=\"reviewRating\" itemscope=\"\" itemtype=\"http://schema.org/Rating\">\n",
              " <span itemprop=\"ratingValue\">2</span>/<span itemprop=\"bestRating\">10</span>\n",
              " </div>\n",
              " <div class=\"body\" id=\"anchor896548\">\n",
              " <h2 class=\"text_header\">\"allocated random seats\"</h2>\n",
              " <h3 class=\"text_sub_header userStatusWrapper\">\n",
              " <span itemprop=\"author\" itemscope=\"\" itemtype=\"http://schema.org/Person\">\n",
              " <span itemprop=\"name\">Gary McRae</span></span> (Spain) <time datetime=\"2024-05-22\" itemprop=\"datePublished\">22nd May 2024</time></h3>\n",
              " <div class=\"tc_mobile\">\n",
              " <div class=\"text_content\" itemprop=\"reviewBody\"><strong><a href=\"https://www.airlinequality.com/verified-reviews/\"><em>Not Verified</em></a></strong> |   We pre booked specific seats in row 49 economy on a 787-10 only for an equipment change to a 787-9. Row 49 does not exist on a 787-9, so we were allocated random seats. Many emails sent requesting a refund for the 88€, all met with silence. This is basically theft.</div>\n",
              " <div class=\"review-stats\">\n",
              " <table class=\"review-ratings\">\n",
              " <tr><td class=\"review-rating-header aircraft\">Aircraft</td><td class=\"review-value\">Boeing 787</td></tr>\n",
              " <tr><td class=\"review-rating-header type_of_traveller\">Type Of Traveller</td><td class=\"review-value\">Couple Leisure</td></tr>\n",
              " <tr><td class=\"review-rating-header cabin_flown\">Seat Type</td><td class=\"review-value\">Economy Class</td></tr>\n",
              " <tr><td class=\"review-rating-header route\">Route</td><td class=\"review-value\">Kuala Lumpur to Madrid via Abu Dhabi</td></tr>\n",
              " <tr><td class=\"review-rating-header date_flown\">Date Flown</td><td class=\"review-value\">January 2024</td></tr>\n",
              " <tr>\n",
              " <td class=\"review-rating-header seat_comfort\">Seat Comfort</td>\n",
              " <td class=\"review-rating-stars stars\"><span class=\"star fill\">1</span><span class=\"star fill\">2</span><span class=\"star\">3</span><span class=\"star\">4</span><span class=\"star\">5</span></td>\n",
              " </tr>\n",
              " <tr>\n",
              " <td class=\"review-rating-header cabin_staff_service\">Cabin Staff Service</td>\n",
              " <td class=\"review-rating-stars stars\"><span class=\"star fill\">1</span><span class=\"star fill\">2</span><span class=\"star\">3</span><span class=\"star\">4</span><span class=\"star\">5</span></td>\n",
              " </tr>\n",
              " <tr>\n",
              " <td class=\"review-rating-header food_and_beverages\">Food &amp; Beverages</td>\n",
              " <td class=\"review-rating-stars stars\"><span class=\"star fill\">1</span><span class=\"star fill\">2</span><span class=\"star fill\">3</span><span class=\"star\">4</span><span class=\"star\">5</span></td>\n",
              " </tr>\n",
              " <tr>\n",
              " <td class=\"review-rating-header inflight_entertainment\">Inflight Entertainment</td>\n",
              " <td class=\"review-rating-stars stars\"><span class=\"star fill\">1</span><span class=\"star fill\">2</span><span class=\"star\">3</span><span class=\"star\">4</span><span class=\"star\">5</span></td>\n",
              " </tr>\n",
              " <tr>\n",
              " <td class=\"review-rating-header ground_service\">Ground Service</td>\n",
              " <td class=\"review-rating-stars stars\"><span class=\"star fill\">1</span><span class=\"star fill\">2</span><span class=\"star fill\">3</span><span class=\"star\">4</span><span class=\"star\">5</span></td>\n",
              " </tr>\n",
              " <tr>\n",
              " <td class=\"review-rating-header value_for_money\">Value For Money</td>\n",
              " <td class=\"review-rating-stars stars\"><span class=\"star fill\">1</span><span class=\"star fill\">2</span><span class=\"star fill\">3</span><span class=\"star\">4</span><span class=\"star\">5</span></td>\n",
              " </tr>\n",
              " <tr><td class=\"review-rating-header recommended\">Recommended</td><td class=\"review-value rating-no\">no</td></tr> </table>\n",
              " </div>\n",
              " </div>\n",
              " </div>\n",
              " <a class=\"toggle-click tc_mobile_only\" href=\"#anchor896548\"></a>\n",
              " </article>,\n",
              " <article class=\"comp comp_media-review-rated list-item media position-content review-896546\" itemprop=\"review\" itemscope=\"\" itemtype=\"http://schema.org/Review\">\n",
              " <meta content=\"2024-05-22\" itemprop=\"datePublished\"/>\n",
              " <div class=\"rating-10\" itemprop=\"reviewRating\" itemscope=\"\" itemtype=\"http://schema.org/Rating\">\n",
              " <span itemprop=\"ratingValue\">1</span>/<span itemprop=\"bestRating\">10</span>\n",
              " </div>\n",
              " <div class=\"body\" id=\"anchor896546\">\n",
              " <h2 class=\"text_header\">\"Nobody care how are you\"</h2>\n",
              " <h3 class=\"text_sub_header userStatusWrapper\">\n",
              " <span itemprop=\"author\" itemscope=\"\" itemtype=\"http://schema.org/Person\">\n",
              " <span itemprop=\"name\">L Strimban</span></span> (Israel) <time datetime=\"2024-05-22\" itemprop=\"datePublished\">22nd May 2024</time></h3>\n",
              " <div class=\"tc_mobile\">\n",
              " <div class=\"text_content\" itemprop=\"reviewBody\">✅ <strong><a href=\"https://www.airlinequality.com/verified-reviews/\"><em>Trip Verified</em></a></strong> |  I had two flights with connection 11 hours in Abu Dhabi, first flight they didn’t gave even food, after complaining they gave me sandwiches - I was in  business class. When I arrived to my final destination they lost my baggage, and they don’t answer and no taking any responsibility. They told me to split the baggage from the first flight. Nobody care how are you.</div>\n",
              " <div class=\"review-stats\">\n",
              " <table class=\"review-ratings\">\n",
              " <tr><td class=\"review-rating-header type_of_traveller\">Type Of Traveller</td><td class=\"review-value\">Solo Leisure</td></tr>\n",
              " <tr><td class=\"review-rating-header cabin_flown\">Seat Type</td><td class=\"review-value\">Business Class</td></tr>\n",
              " <tr><td class=\"review-rating-header route\">Route</td><td class=\"review-value\">Colombo to Tel Aviv via Abu Dhabi</td></tr>\n",
              " <tr><td class=\"review-rating-header date_flown\">Date Flown</td><td class=\"review-value\">May 2024</td></tr>\n",
              " <tr>\n",
              " <td class=\"review-rating-header seat_comfort\">Seat Comfort</td>\n",
              " <td class=\"review-rating-stars stars\"><span class=\"star fill\">1</span><span class=\"star\">2</span><span class=\"star\">3</span><span class=\"star\">4</span><span class=\"star\">5</span></td>\n",
              " </tr>\n",
              " <tr>\n",
              " <td class=\"review-rating-header cabin_staff_service\">Cabin Staff Service</td>\n",
              " <td class=\"review-rating-stars stars\"><span class=\"star fill\">1</span><span class=\"star\">2</span><span class=\"star\">3</span><span class=\"star\">4</span><span class=\"star\">5</span></td>\n",
              " </tr>\n",
              " <tr>\n",
              " <td class=\"review-rating-header food_and_beverages\">Food &amp; Beverages</td>\n",
              " <td class=\"review-rating-stars stars\"><span class=\"star fill\">1</span><span class=\"star\">2</span><span class=\"star\">3</span><span class=\"star\">4</span><span class=\"star\">5</span></td>\n",
              " </tr>\n",
              " <tr>\n",
              " <td class=\"review-rating-header inflight_entertainment\">Inflight Entertainment</td>\n",
              " <td class=\"review-rating-stars stars\"><span class=\"star fill\">1</span><span class=\"star fill\">2</span><span class=\"star\">3</span><span class=\"star\">4</span><span class=\"star\">5</span></td>\n",
              " </tr>\n",
              " <tr>\n",
              " <td class=\"review-rating-header ground_service\">Ground Service</td>\n",
              " <td class=\"review-rating-stars stars\"><span class=\"star fill\">1</span><span class=\"star fill\">2</span><span class=\"star fill\">3</span><span class=\"star fill\">4</span><span class=\"star\">5</span></td>\n",
              " </tr>\n",
              " <tr>\n",
              " <td class=\"review-rating-header wifi_and_connectivity\">Wifi &amp; Connectivity</td>\n",
              " <td class=\"review-rating-stars stars\"><span class=\"star fill\">1</span><span class=\"star fill\">2</span><span class=\"star\">3</span><span class=\"star\">4</span><span class=\"star\">5</span></td>\n",
              " </tr>\n",
              " <tr>\n",
              " <td class=\"review-rating-header value_for_money\">Value For Money</td>\n",
              " <td class=\"review-rating-stars stars\"><span class=\"star fill\">1</span><span class=\"star\">2</span><span class=\"star\">3</span><span class=\"star\">4</span><span class=\"star\">5</span></td>\n",
              " </tr>\n",
              " <tr><td class=\"review-rating-header recommended\">Recommended</td><td class=\"review-value rating-no\">no</td></tr> </table>\n",
              " </div>\n",
              " </div>\n",
              " </div>\n",
              " <a class=\"toggle-click tc_mobile_only\" href=\"#anchor896546\"></a>\n",
              " </article>]"
            ]
          },
          "metadata": {},
          "execution_count": 6
        }
      ]
    },
    {
      "cell_type": "code",
      "source": [
        "short_reviews =[]\n",
        "for article in articles :\n",
        "  short_reviews.append(article.find('h2'))\n",
        "  short_reviews"
      ],
      "metadata": {
        "id": "nD69uVQLHqSW"
      },
      "execution_count": null,
      "outputs": []
    },
    {
      "cell_type": "code",
      "source": [
        "for review in short_reviews:\n",
        "  print(review.text)\n"
      ],
      "metadata": {
        "colab": {
          "base_uri": "https://localhost:8080/"
        },
        "id": "l4js1tDuI2JU",
        "outputId": "8ac1ee43-de1d-45ae-a6b4-84e906f7d92f"
      },
      "execution_count": null,
      "outputs": [
        {
          "output_type": "stream",
          "name": "stdout",
          "text": [
            "\"disappointing and frustrating\"\n",
            "\"very good value for money\"\n",
            "\"Business Class product is good\"\n",
            "\"nothing really to complain about\"\n",
            "\"I have submitted 3 claims\"\n",
            "\"Ground staff needs training\"\n",
            "“I did enjoy it very much”\n",
            "\"Never again Etihad\"\n",
            "\"allocated random seats\"\n",
            "\"Nobody care how are you\"\n"
          ]
        }
      ]
    },
    {
      "cell_type": "markdown",
      "source": [
        "Getting data for dates of the reviews"
      ],
      "metadata": {
        "id": "ABAlmAyHXKVP"
      }
    },
    {
      "cell_type": "code",
      "source": [
        "dates = []\n",
        "for article in articles:\n",
        "  dates.append(article.find('time'))\n",
        "  dates"
      ],
      "metadata": {
        "id": "iRavt8bZJb06"
      },
      "execution_count": null,
      "outputs": []
    },
    {
      "cell_type": "code",
      "source": [
        "for date in dates:\n",
        "  print(date.text)"
      ],
      "metadata": {
        "colab": {
          "base_uri": "https://localhost:8080/"
        },
        "id": "ojDLEtuZKrkW",
        "outputId": "91a0e32d-2c2c-4bd7-858b-e394f070a8e3"
      },
      "execution_count": null,
      "outputs": [
        {
          "output_type": "stream",
          "name": "stdout",
          "text": [
            "19th June 2024\n",
            "17th June 2024\n",
            "6th June 2024\n",
            "6th June 2024\n",
            "5th June 2024\n",
            "4th June 2024\n",
            "4th June 2024\n",
            "29th May 2024\n",
            "22nd May 2024\n",
            "22nd May 2024\n"
          ]
        }
      ]
    },
    {
      "cell_type": "markdown",
      "source": [
        "Getting data for long reviews"
      ],
      "metadata": {
        "id": "xhG4CQyDXchv"
      }
    },
    {
      "cell_type": "code",
      "source": [
        "long_reviews = []\n",
        "for articles in articles:\n",
        "  long_reviews.append(articles.find('div',class_='text_content'))\n",
        "  long_reviews\n"
      ],
      "metadata": {
        "id": "oVF1ny0aMr18"
      },
      "execution_count": null,
      "outputs": []
    },
    {
      "cell_type": "code",
      "source": [
        "for long_review in long_reviews:\n",
        "  print(long_review.text)"
      ],
      "metadata": {
        "colab": {
          "base_uri": "https://localhost:8080/"
        },
        "id": "-Wd2EsM6OCM9",
        "outputId": "bbc0d4e1-ee48-4edb-f7c5-9b5ac37f258e"
      },
      "execution_count": null,
      "outputs": [
        {
          "output_type": "stream",
          "name": "stdout",
          "text": [
            "✅ Trip Verified |  My recent experience with Etihad Airways on an international flight from Bangalore to Boston was disappointing and frustrating. The ordeal began with repeated flight delays without clear explanations, initially delaying departure by an hour, then extending to two more hours without any reasonable justification. After waiting painfully for 6 hours, the flight was suddenly canceled, leaving passengers feeling lost and frustrated. Etihad's management handled the situation poorly, showing a blatant disregard for the inconvenience caused to passengers. Instead of arranging alternative flights, they scheduled me for a replacement flight 20 hours later, with two additional connecting flights, each burdened with layovers of 8 hours and 7 hours respectively. This resulted in an waste of nearly 32 hours of travel time. Throughout this travel, there was a glaring lack of empathy or support from Etihad's staff, who seemed indifferent to the plight of their customers. No compensatory measures were offered, despite the significant inconvenience and disruption to travel plans. Based on my personal experience, I strongly advise against choosing Etihad Airways for future travel plans. Their unprofessionalism, lack of customer care, and disregard for passenger well-being make them a regrettable choice for anyone seeking reliable and considerate airline service.\n",
            "✅ Trip Verified | I flew Etihad very recently from AMS to HKT via AUH and return from BKK to AMS via AUH. All flights in economy. All flights except the flight from BKK to AUH were on time. I booked an aisle seat for all flights and I also purchased priority access which allows you to check in at separate desk and to board the aircraft first alongside business class passengers. In my opinion this is a brilliant option becuse you avoid the rush and chaos of economy class check in and boarding. It's gives you plenty of time to stow you luggage and get ready for the flight. The boarding procedure is well organised. On board I found the seats offer enough comfort and acceptable seat pitch. Ebox system is very nice with a broad selection of movies and tv show. Live tv, including sports is available. Watched the Dutch national footbal team beat Poland. Food and beverage is of good quality. Wifi available for a decent price. On all flights I found the Cabin crew to be cheerful and helpful. The only thing I would like to add is some amenities in the lavatories. All in all very good value for money.\n",
            "✅ Trip Verified |  I had flown Etihad's Boeing 787  in Business Class before, and privacy-wise, the seating is not as good as the A380. Even from my window seat, the rear seat facing passengers was clearly visible. The spacious cabin and decor looked beautiful, and the seat itself, identical to that in the A380s was very comfortable. On boarding, I was addressed by name and pointed in the direction of my seat. The usual, pre-flight drinks and hot towels followed, and pushback was on time. Soon after take off, my dinner order was taken. The dishes listed on the à la carte menu were all enticing, and I chose Salmon for starters. With a choice of four main courses, it was Prawn Biriyani, which was excellent. There was no second meal served as such, instead the 'dine on demand' meant you could order from the 'all-day dining' menu. I had their famous Steak Sandwich and a beer, which was also very good. The cosy 28-seat, 1x2x1 layout cabin (which is becoming more the industry standard) was full. Yet the flight attendants managed to briefly chat with most of us, and several times asked if I needed anything else. The new grey 'cube' bag amenity kit placed on my table looked cute, but was very basic, with a few ESPA lotions, eye shades and a dental kit. The touch screen IFE worked well, however, the choice of new movies was not that great since I last flew eight months ago. Instead, I decided to watch a couple of TV sitcoms before preparing for bed. Most of the seat and lighting adjustments could be controlled both from the side table, as well as from the small tabletop monitor. As it was a night departure, I was hoping to get some rest. Etihad provides slippers, but no PJs for a nine-hour flight. However, the large pillow, mattress pad and duvet sufficed. Adjusting the seat for a harder or softer feel also made a difference. As I sipped my nightcap of black coffee and cognac by my side, and the cabin lights dimmed, I drifted into a good four sleep. Etihad's Business Class product is good, as I have experienced it several times before.\n",
            "✅ Trip Verified |  I hadn't flown Etihad's Economy Class for a long time and wasn't exactly looking forward to a nine and a half hour flight to Abu Dhabi, an eight hour layover, and another seven hour flight back to London. The check-in and boarding process at Kansai Airport was poorly handled. It was agonizingly slow, with business class and economy passengers being moved about to different counters. At the boarding gates, unlike some flights where there are dedicated spaces for each flight, here we were crowded between two flight queues right next to each other, both boarding at the same time. One staff member was carrying a small placard walking up and down the queue, advising which group of rows could start boarding. However, the flight was only delayed by 20 minutes. The first flight on the Dreamliner has a 3x3x3 layout. The seat itself and legroom was reasonably comfortable, I guess only because I am not tall. The flight was full and the service began as soon as the seat belt sign was turned off. There were two meal services on this flight. It was sad to see how much the size of the meal tray has shrunk. The first meal ran out of choice, and I had to settle for some bland pasta. Having apologized, I was promised a choice of the second meal and the shrimp curry with rice which was delicious. Drinks were served with meals, and followed by coffee or tea afterwards. Later I was able to request an extra drink, but had to wait a long time to be served. The seat has about 3 inches recline, although mine wasn't working. Once the lights were dimmed, I did manage to nod off a for an hour or so. At Abu Dhabi, before the flight back to London, I was relieved to relax at Etihad's Business Lounge as I was a Guest Member. Boarding at Abu Dhabi was expertly handled, with clear messaging for which seating rows to come forward. On the A380 to Heathrow, I had paid for an 'extra legroom seat', which has 4 more inches of extra space, and did make a difference in comfort. Located in the front of the aircraft, and curtained off like a separate cabin, it felt more relaxing. The onboard service was of course the same as the rest in Economy class. It was a bright blue sky day as we departed on time. The interactive IFE route map showed the exterior tail camera and an excellent view of the aircraft taxing and taking off. Both flights were nothing special, and the service was as you would expect on a long-haul economy class flight. The A380 was certainly more comfortable than the Dreamliner. Although non-engaging, on both flights, the cabin crew were professional, so I have nothing really to complain about.\n",
            "✅ Trip Verified |  For the last 3 months I am waiting for my bag. I have submitted 3 claims, one of your member offer me very low amount which are very less to my luggage things present in it. After that no one reply my emails. I want know what i do now for my lost bag. Very Sad about Etihad response\n",
            "✅ Trip Verified |  On may 14, i came to check in and i was told I'm over nearly 2 kgs. The first lady told me i still have extra space in my cabin trolley then could make use of that. Came back 2nd time to another staff and she told me my trolley is 8 kgs and ask me if i got laptop. I said i got small laptop in my medium tote bag, she said i need to weigh your shoulder bag. I never been humiliated before, she said its 3 kgs and advised me to put that extra back to my check ins and just pay £100. To avoid further embarrassment, i agreed. Came back to counter 3rd time and this time a different ground staff said you will pay £153. Make use of that space in your cabin trolley and pay nothing. I had enough and told her i have been repacking 3x now. She apologised few times. I have been embarassed so let me pay £153 and  paid. Ground staff needs training.\n",
            "✅ Trip Verified | Nearly eight months ago, I took this exact flight to Abu Dhabi, and was expecting the same professional onboard service I enjoyed before. This time flying with cabin baggage only - a generous 12 kg, plus another 5kg 'handbag'. I therefore understood why they had to weigh each item on check-in. The boarding process was swift, and I was served both champagne and a lovely mint and lemon drink as soon as I settled down. Hot towels followed, and slippers were provided. Etihad's 'dine on demand' for some reason did not materialize nor was it offered. Soon after take off, and at cruising altitude, the bar service followed, and lunch was served. For the rest of the flight the à la carte 'all-day dining menu' meant I could request the next meal or snack when needed. A nice touch is that I could also order my drinks from the IFE monitor. Seat comfort adjustments, massage and lighting could be controlled both from the side table, as well as from the small tabletop monitor. If I had something to mildly grumble about, two noticeable differences compared to my previous flight was - a new but very basic ESPA amenity kit (I missed the cologne which was included in their previous Acqua di Parma products). I was also rather disappointed with the lack of more new movies, although there was plenty to choose from TV shows, documentaries, news channels and games. Later, I spent a little time at the small lounge which was empty, and helped myself to a drink at the self-service bar, and a crew member served me coffee and chocolates. Although the necessary bedding was provided, like a soft mattress, duvet and large pillow, I resisted a nap as I had a long layover ahead of me on my next flight from Abu Dhabi, and would get some sleep at their lounge. A non-eventful flight, nevertheless as before, I did enjoy it very much, especially the friendly cabin crew.\n",
            "✅ Trip Verified |  This airline do not know how to handle baby strollers, we had the experience of having our double stroller damaged beyond repair and Etihad say it's not their faults, won't check with ground staff in Abu Dhabi instead try to bribe us with 50usd. We cannot just buy a new stroller now we must suffer without one. Because of airline negligence and disrespectful staff Never again Etihad.\n",
            "Not Verified |   We pre booked specific seats in row 49 economy on a 787-10 only for an equipment change to a 787-9. Row 49 does not exist on a 787-9, so we were allocated random seats. Many emails sent requesting a refund for the 88€, all met with silence. This is basically theft.\n",
            "✅ Trip Verified |  I had two flights with connection 11 hours in Abu Dhabi, first flight they didn’t gave even food, after complaining they gave me sandwiches - I was in  business class. When I arrived to my final destination they lost my baggage, and they don’t answer and no taking any responsibility. They told me to split the baggage from the first flight. Nobody care how are you.\n"
          ]
        }
      ]
    },
    {
      "cell_type": "markdown",
      "source": [
        "Getting data the multiple pages"
      ],
      "metadata": {
        "id": "qlE2uEAIXkVr"
      }
    },
    {
      "cell_type": "code",
      "source": [
        "base_url = 'https://www.airlinequality.com/airline-reviews/etihad-airways/'"
      ],
      "metadata": {
        "id": "Xzb8X-8o4W2b"
      },
      "execution_count": null,
      "outputs": []
    },
    {
      "cell_type": "code",
      "source": [
        "short_reviews = []\n",
        "long_reviews = []\n",
        "dates = []\n",
        "page_number = 1"
      ],
      "metadata": {
        "id": "YtFQKF9_P8G4"
      },
      "execution_count": null,
      "outputs": []
    },
    {
      "cell_type": "code",
      "source": [
        "while True :\n",
        "  url = f'{base_url}page/{page_number}'\n",
        "  response = requests.get(url)\n",
        "  soup = BeautifulSoup(response.text,'html.parser')\n",
        "\n",
        "  articles = soup.find_all('article',itemprop= 'review')\n",
        "\n",
        "  for article in articles:\n",
        "    short_review = article.find('h2')\n",
        "    short_reviews.append(short_review.text)\n",
        "\n",
        "\n",
        "  for article in articles:\n",
        "    date = article.find('time')\n",
        "    dates.append(date.text)\n",
        "\n",
        "\n",
        "  for article in articles:\n",
        "    long_review = article.find('div',class_='text content')\n",
        "    if long_review:\n",
        "      long_reviews.append(long_review.text)\n",
        "\n",
        "\n",
        "\n",
        "\n",
        "  page_number += 1\n",
        "\n",
        "\n",
        "\n"
      ],
      "metadata": {
        "id": "o9rNSw_w4KWS"
      },
      "execution_count": null,
      "outputs": []
    }
  ]
}