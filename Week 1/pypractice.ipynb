{
 "cells": [
  {
   "cell_type": "markdown",
   "metadata": {},
   "source": [
    "## PRACTICE ASSIGNMENT "
   ]
  },
  {
   "cell_type": "markdown",
   "metadata": {},
   "source": [
    "#### 1.2: Variables and Expressions"
   ]
  },
  {
   "cell_type": "code",
   "execution_count": 2,
   "metadata": {},
   "outputs": [
    {
     "name": "stdout",
     "output_type": "stream",
     "text": [
      "Welcome Kathleen\n"
     ]
    }
   ],
   "source": [
    "## Write a program that uses input to prompt a user for their name\n",
    "#  and then welcomes them\n",
    "\n",
    "nam = input('Who are you? ')\n",
    "print('Welcome',nam)"
   ]
  },
  {
   "cell_type": "code",
   "execution_count": 6,
   "metadata": {},
   "outputs": [
    {
     "name": "stdout",
     "output_type": "stream",
     "text": [
      "Gross pay is 255.0\n"
     ]
    }
   ],
   "source": [
    "##  Write a program to prompt the user for hours \n",
    "# and rate per hour to compute gross pay.\n",
    "\n",
    "hours = float(input('Enter hours: '))\n",
    "rate = float(input('Enter rate: '))\n",
    "\n",
    "pay = (hours*rate)\n",
    "print(f'Gross pay is {pay}')"
   ]
  },
  {
   "cell_type": "code",
   "execution_count": 8,
   "metadata": {},
   "outputs": [
    {
     "name": "stdout",
     "output_type": "stream",
     "text": [
      "8 <class 'int'>\n",
      "8.5 <class 'float'>\n",
      "4.0 <class 'float'>\n",
      "11 <class 'int'>\n"
     ]
    }
   ],
   "source": [
    "## Assume that we execute the following assignment statements\n",
    "width =  17\n",
    "height = 12.0\n",
    "\n",
    "a = width//2\n",
    "\n",
    "b = width/2.0\n",
    "\n",
    "c= height/3\n",
    "\n",
    "d = 1 + 2 * 5\n",
    "\n",
    "print(a,type(a))\n",
    "print(b,type(b))\n",
    "print(c,type(c))\n",
    "print(d,type(d))"
   ]
  },
  {
   "cell_type": "code",
   "execution_count": 7,
   "metadata": {},
   "outputs": [
    {
     "name": "stdout",
     "output_type": "stream",
     "text": [
      "Fahrenheit 98.6\n"
     ]
    }
   ],
   "source": [
    "# Write a program which prompts the user for a Celsius temperature,\n",
    "# convert the temperature to Fahrenheit, and print out the converted temperature.\n",
    "\n",
    "ct = input('celcius temp ')\n",
    "faren = int(ct)*9/5 + 32\n",
    "print('Fahrenheit', faren )\n"
   ]
  },
  {
   "cell_type": "markdown",
   "metadata": {},
   "source": [
    "### 1.3 Conditional Statements and Loops"
   ]
  },
  {
   "cell_type": "code",
   "execution_count": 16,
   "metadata": {},
   "outputs": [
    {
     "name": "stdout",
     "output_type": "stream",
     "text": [
      "Welcome to the Number Guessing Game\n",
      "You have 3 attempts to guess the correct number\n",
      "Lower\n"
     ]
    }
   ],
   "source": [
    "## Write a program that generates a random number between 1 and 100. \n",
    "# The user has to guess the number in a limited number of attempts. \n",
    "# Provide feedback after each guess (higher, lower, or correct)\n",
    "\n",
    "import random\n",
    "\n",
    "def guess_game():\n",
    "    secret_number = random.randint(1,100)\n",
    "    max_attempts = 3\n",
    "    attempts = 0\n",
    "    \n",
    "    print('Welcome to the Number Guessing Game')\n",
    "    print('You have 3 attempts to guess the correct number')\n",
    "\n",
    "    while attempts<max_attempts:\n",
    "        guess=int(input('\\nPick a number between 1 and 100' ))\n",
    "        \n",
    "\n",
    "        if guess < secret_number:\n",
    "          print('Lower')\n",
    "        elif guess > secret_number:\n",
    "          print('Higher')\n",
    "        else:\n",
    "          print('You guessed the right number')\n",
    "        return\n",
    "\n",
    "    print(f'The secret number is{secret_number}')\n",
    "    \n",
    "    attempts += 1\n",
    "\n",
    "guess_game()"
   ]
  },
  {
   "cell_type": "code",
   "execution_count": 14,
   "metadata": {},
   "outputs": [
    {
     "name": "stdout",
     "output_type": "stream",
     "text": [
      "Welcome to the Number Guessing Game\n",
      "You have 3 attempts to guess the correct number\n",
      "Lower\n"
     ]
    }
   ],
   "source": [
    "guess_game()"
   ]
  },
  {
   "cell_type": "code",
   "execution_count": 1,
   "metadata": {},
   "outputs": [
    {
     "ename": "NameError",
     "evalue": "name 'a' is not defined",
     "output_type": "error",
     "traceback": [
      "\u001b[1;31m---------------------------------------------------------------------------\u001b[0m",
      "\u001b[1;31mNameError\u001b[0m                                 Traceback (most recent call last)",
      "Cell \u001b[1;32mIn[1], line 24\u001b[0m\n\u001b[0;32m     20\u001b[0m     \u001b[38;5;28;01melse\u001b[39;00m:\n\u001b[0;32m     21\u001b[0m         \u001b[38;5;28mprint\u001b[39m(\u001b[38;5;124m'\u001b[39m\u001b[38;5;124minvalid operators entered\u001b[39m\u001b[38;5;124m'\u001b[39m)\n\u001b[1;32m---> 24\u001b[0m \u001b[38;5;28mprint\u001b[39m(\u001b[38;5;124mf\u001b[39m\u001b[38;5;124m'\u001b[39m\u001b[38;5;132;01m{\u001b[39;00m\u001b[43ma\u001b[49m\u001b[38;5;132;01m}\u001b[39;00m\u001b[38;5;132;01m{\u001b[39;00mc\u001b[38;5;132;01m}\u001b[39;00m\u001b[38;5;132;01m{\u001b[39;00mb\u001b[38;5;132;01m}\u001b[39;00m\u001b[38;5;124mreturns\u001b[39m\u001b[38;5;132;01m{\u001b[39;00mresults\u001b[38;5;132;01m}\u001b[39;00m\u001b[38;5;124m'\u001b[39m)\n",
      "\u001b[1;31mNameError\u001b[0m: name 'a' is not defined"
     ]
    }
   ],
   "source": [
    "## Write a program that allows the user to enter two numbers and an operator (+, -, *, /) \n",
    "# and perform the corresponding calculation. \n",
    "# Use conditional statements to handle different operators\n",
    "\n",
    "def operations():\n",
    "    a = int(input('Enter the first number: '))\n",
    "    b = int(input('Enter the second number: ' ))\n",
    "    c = input('Enter an operator(+,-,*,/)  ')\n",
    "    results = None\n",
    "\n",
    "    if c == '+' :\n",
    "        results = a + b\n",
    "    elif c == '-':\n",
    "        results = a-b\n",
    "    elif c == '*':\n",
    "        results = a*b\n",
    "    elif c == '/':\n",
    "        results = a/b\n",
    "\n",
    "    else:\n",
    "        print('invalid operator entered')\n",
    "    break\n",
    "\n",
    "print(results)\n",
    "\n",
    "    "
   ]
  },
  {
   "cell_type": "code",
   "execution_count": 4,
   "metadata": {},
   "outputs": [
    {
     "name": "stdout",
     "output_type": "stream",
     "text": [
      "5 is not a prime number\n"
     ]
    }
   ],
   "source": [
    "## Write a program that uses a while loop to check if a number entered \n",
    "# by the user is a prime number (divisible only by 1 and itself).\n",
    "\n",
    "num= int(input('Enter number to check if it is prime: '))\n",
    "i = 2\n",
    "prime = True\n",
    "while i != num:\n",
    "    if (num % i) == 0:\n",
    "        prime = False\n",
    "        break\n",
    "    i += 1\n",
    "\n",
    "if num == prime:\n",
    "    print(num,'is a prime number')\n",
    "else:\n",
    "    print(num,'is not a prime number')"
   ]
  },
  {
   "cell_type": "code",
   "execution_count": 36,
   "metadata": {},
   "outputs": [
    {
     "name": "stdout",
     "output_type": "stream",
     "text": [
      "The multiplication table for 7 up to 10 multiples\n",
      "7 x 1 is 7\n",
      "7 x 2 is 14\n",
      "7 x 3 is 21\n",
      "7 x 4 is 28\n",
      "7 x 5 is 35\n",
      "7 x 6 is 42\n",
      "7 x 7 is 49\n",
      "7 x 8 is 56\n",
      "7 x 9 is 63\n",
      "7 x 10 is 70\n"
     ]
    }
   ],
   "source": [
    "## Write a program that uses a for loop to print the multiplication table of a number\n",
    "#  entered by the user (up to a specified number of multiples\n",
    "\n",
    "number =int(input('Enter a number: '))\n",
    "multiples = int(input('Enter the number of multiples: '))\n",
    "print(f'The multiplication table for {number} up to {multiples} multiples')\n",
    "\n",
    "for i in range( 1,multiples+1):\n",
    "    product = number*i\n",
    "    print(f'{number} x {i} is {product}')\n"
   ]
  },
  {
   "cell_type": "code",
   "execution_count": 37,
   "metadata": {},
   "outputs": [
    {
     "name": "stdout",
     "output_type": "stream",
     "text": [
      "The sum of numbers from 1 to 4 is 10\n"
     ]
    }
   ],
   "source": [
    "## Write a program that uses a for loop to calculate\n",
    "#  the sum of numbers from 1 to a given number entered by the use\n",
    "\n",
    "no = int(input('Enter a number: '))\n",
    "sum_of_no = 0\n",
    "\n",
    "for i in range(1,no+1):\n",
    "    sum_of_no += i\n",
    "\n",
    "print(f'The sum of numbers from 1 to {no} is {sum_of_no}')"
   ]
  },
  {
   "cell_type": "code",
   "execution_count": 1,
   "metadata": {},
   "outputs": [
    {
     "name": "stdout",
     "output_type": "stream",
     "text": [
      "    *\n",
      "   ***\n",
      "  *****\n",
      " *******\n",
      "*********\n"
     ]
    }
   ],
   "source": [
    "## Write a program that uses a for loop to print a pattern of stars or characters like a triangle.\n",
    "rows = 5\n",
    "for i in range(1, rows+1):\n",
    "  print(' '*(rows - i),end='')\n",
    "  print('*'* (2*i -1))"
   ]
  },
  {
   "cell_type": "code",
   "execution_count": 43,
   "metadata": {},
   "outputs": [
    {
     "name": "stdout",
     "output_type": "stream",
     "text": [
      "You have 10 attempts to guess the correct number between 1 and 100\n",
      "High\n",
      "High\n",
      "Low\n",
      "Low\n",
      "Low\n",
      "The correct number is 32\n"
     ]
    }
   ],
   "source": [
    "## Write a program that uses a while loop to generate a random number between 1 and 100. \n",
    "# The user has to guess the number within a limited number of attempts. Provide feedback after each guess.\n",
    "\n",
    "#generate a random number\n",
    "random_number = random.randint(1,100)\n",
    "\n",
    "#max_attempts\n",
    "max_attempts = 5\n",
    "\n",
    "# set attempts to zero\n",
    "attempts = 0\n",
    "\n",
    "\n",
    "print(f'You have 10 attempts to guess the correct number between 1 and 100')\n",
    "\n",
    "# create the guess loop\n",
    "while attempts < max_attempts:\n",
    "    attempts += 1\n",
    "    nom = int(input(f'You have {max_attempts-attempts} attempts remaining. Pick a number between 1 and 100: '))\n",
    "\n",
    "    if nom > random_number:\n",
    "        print('High')\n",
    "    elif nom < random_number:\n",
    "        print('Low')\n",
    "    else:\n",
    "        print(f'Congratulations! You picked the correct number {random_number} in {attempts} attempts')\n",
    "        break\n",
    "\n",
    "else:\n",
    "    print(f'The correct number is {random_number}')\n"
   ]
  },
  {
   "cell_type": "markdown",
   "metadata": {},
   "source": [
    "### 1.4 Functions"
   ]
  },
  {
   "cell_type": "code",
   "execution_count": 45,
   "metadata": {},
   "outputs": [
    {
     "name": "stdout",
     "output_type": "stream",
     "text": [
      "Number is positive\n"
     ]
    }
   ],
   "source": [
    "## Create a function that will determine whether a number is positive or negative\n",
    "def number_sign(number):\n",
    "    if number > 0:\n",
    "        return \"Number is positive\"\n",
    "    elif number < 0:\n",
    "        return \"Number is negative\"\n",
    "    else:\n",
    "        \"Number is zero\"\n",
    "\n",
    "number = int(input('Enter a number: '))\n",
    "results = number_sign(number)\n",
    "print(results)"
   ]
  },
  {
   "cell_type": "code",
   "execution_count": 48,
   "metadata": {},
   "outputs": [
    {
     "name": "stdout",
     "output_type": "stream",
     "text": [
      "25.0\n",
      "350.0\n",
      "616.0\n"
     ]
    }
   ],
   "source": [
    "## Write functions to calculate the area of different shapes like square (area_of_square(side_length)), \n",
    "# rectangle (area_of_rectangle(length, width)), and circle (area_of_circle(radius)).\n",
    "\n",
    "def area_of_square(sidelength):\n",
    "    return sidelength**2\n",
    "\n",
    "def area_of_rectangle(length,width):\n",
    "    return length*width\n",
    "\n",
    "def area_of_circle(radius):\n",
    "    return 22/7*radius**2\n",
    "\n",
    "sidelength1 = float(input('Enter the length of square: '))\n",
    "result1= area_of_square(sidelength1)\n",
    "print(result1)\n",
    "\n",
    "length1 = float(input('Enter a length of the rectangle: '))\n",
    "width1 = float(input('Enter the width of the rectangle: '))\n",
    "result2 = area_of_rectangle(length1,width1)\n",
    "print(result2)\n",
    "\n",
    "radius1= float(input('Enter the radius of the circle: '))\n",
    "result3 = area_of_circle(radius1)\n",
    "print(result3)\n",
    "    \n",
    "\n",
    "    "
   ]
  },
  {
   "cell_type": "code",
   "execution_count": 52,
   "metadata": {},
   "outputs": [
    {
     "name": "stdout",
     "output_type": "stream",
     "text": [
      "score: A\n"
     ]
    }
   ],
   "source": [
    "## Write a function called calculate_grade that takes a score as \n",
    "# input and returns the corresponding letter grade (A, B, C, D, F)\n",
    "# based on a grading scale (e.g., A: 90-100, B: 80-89, etc.).\n",
    "\n",
    "def calculated_grade(score):\n",
    "    if 90 <= score < 100:\n",
    "        return 'A'\n",
    "    elif 80 <= score < 89:\n",
    "        return 'B'\n",
    "    elif 70 <= score < 79 :\n",
    "        return 'C'\n",
    "    elif 60 <= score < 69:\n",
    "        return 'D'\n",
    "    elif 50 <= score < 59:\n",
    "        return 'E'\n",
    "    else:\n",
    "        return 'FAIL'\n",
    "    \n",
    "score = int(input('Enter score: '))\n",
    "score1 = calculated_grade(score)\n",
    "print('score:' ,score1)\n"
   ]
  }
 ],
 "metadata": {
  "kernelspec": {
   "display_name": "Python 3",
   "language": "python",
   "name": "python3"
  },
  "language_info": {
   "codemirror_mode": {
    "name": "ipython",
    "version": 3
   },
   "file_extension": ".py",
   "mimetype": "text/x-python",
   "name": "python",
   "nbconvert_exporter": "python",
   "pygments_lexer": "ipython3",
   "version": "3.12.4"
  }
 },
 "nbformat": 4,
 "nbformat_minor": 2
}
